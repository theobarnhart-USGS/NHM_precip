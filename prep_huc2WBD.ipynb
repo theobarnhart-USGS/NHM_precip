{
 "cells": [
  {
   "cell_type": "code",
   "execution_count": 57,
   "metadata": {},
   "outputs": [],
   "source": [
    "import geopandas as gpd\n",
    "import matplotlib.pyplot as plt\n",
    "import fiona"
   ]
  },
  {
   "cell_type": "code",
   "execution_count": 81,
   "metadata": {},
   "outputs": [
    {
     "data": {
      "text/plain": [
       "{'init': 'epsg:4326'}"
      ]
     },
     "execution_count": 81,
     "metadata": {},
     "output_type": "execute_result"
    }
   ],
   "source": [
    "crs"
   ]
  },
  {
   "cell_type": "code",
   "execution_count": 82,
   "metadata": {},
   "outputs": [],
   "source": [
    "fl = '../gis_data/wbd10u_outline.shp'\n",
    "huc10U = gpd.read_file(fl)\n",
    "old_crs = huc10U.crs\n",
    "\n",
    "fl = '../gis_data/wbd10l_outline.shp'\n",
    "huc10L = gpd.read_file(fl)\n",
    "\n",
    "fl = '../gis_data/wbdhu2_a_us_september2017.gdb'\n",
    "geom = gpd.read_file(fl)\n",
    "crs = geom.crs"
   ]
  },
  {
   "cell_type": "code",
   "execution_count": 83,
   "metadata": {},
   "outputs": [
    {
     "data": {
      "text/plain": [
       "{'init': 'epsg:4269'}"
      ]
     },
     "execution_count": 83,
     "metadata": {},
     "output_type": "execute_result"
    }
   ],
   "source": [
    "old_crs"
   ]
  },
  {
   "cell_type": "code",
   "execution_count": 28,
   "metadata": {},
   "outputs": [],
   "source": [
    "# reporject the huc10s\n",
    "huc10L = huc10L.to_crs(geom.crs)\n",
    "huc10U = huc10U.to_crs(geom.crs)"
   ]
  },
  {
   "cell_type": "code",
   "execution_count": 33,
   "metadata": {},
   "outputs": [],
   "source": [
    "geom = geom.loc[geom.HUC2 != '10']\n",
    "newGeom = geom[['HUC2','geometry']]"
   ]
  },
  {
   "cell_type": "code",
   "execution_count": 34,
   "metadata": {},
   "outputs": [],
   "source": [
    "newGeom = newGeom.set_geometry('geometry')\n",
    "newGeom.crs = crs"
   ]
  },
  {
   "cell_type": "code",
   "execution_count": 37,
   "metadata": {},
   "outputs": [],
   "source": [
    "huc10L['HUC2'] = '10L'\n",
    "huc10U['HUC2'] = '10U'\n",
    "\n",
    "huc10L = huc10L[['HUC2','geometry']]\n",
    "huc10U = huc10U[['HUC2','geometry']]\n",
    "\n",
    "huc10L.set_geometry('geometry')\n",
    "huc10U.set_geometry('geometry')\n",
    "\n",
    "huc10L.crs = crs\n",
    "huc10U.crs = crs"
   ]
  },
  {
   "cell_type": "code",
   "execution_count": 48,
   "metadata": {},
   "outputs": [],
   "source": [
    "wbd = newGeom.append(huc10L)"
   ]
  },
  {
   "cell_type": "code",
   "execution_count": 49,
   "metadata": {},
   "outputs": [],
   "source": [
    "wbd = wbd.append(huc10U)"
   ]
  },
  {
   "cell_type": "code",
   "execution_count": 78,
   "metadata": {},
   "outputs": [],
   "source": [
    "wbd.to_file('../gis_data/huc2_boundaries.geojson', driver = 'GeoJSON')"
   ]
  },
  {
   "cell_type": "code",
   "execution_count": 79,
   "metadata": {},
   "outputs": [],
   "source": [
    "wbd = gpd.read_file('../gis_data/huc2_boundaries.geojson')"
   ]
  },
  {
   "cell_type": "code",
   "execution_count": 80,
   "metadata": {},
   "outputs": [
    {
     "data": {
      "text/plain": [
       "<matplotlib.axes._subplots.AxesSubplot at 0x7f3f0bfce6a0>"
      ]
     },
     "execution_count": 80,
     "metadata": {},
     "output_type": "execute_result"
    },
    {
     "data": {
      "image/png": "[encoded data removed]",
      "text/plain": [
       "<Figure size 432x288 with 1 Axes>"
      ]
     },
     "metadata": {},
     "output_type": "display_data"
    }
   ],
   "source": [
    "wbd.plot(column = 'HUC2')"
   ]
  },
  {
   "cell_type": "code",
   "execution_count": null,
   "metadata": {},
   "outputs": [],
   "source": []
  }
 ],
 "metadata": {
  "kernelspec": {
   "display_name": "Python 3",
   "language": "python",
   "name": "python3"
  },
  "language_info": {
   "codemirror_mode": {
    "name": "ipython",
    "version": 3
   },
   "file_extension": ".py",
   "mimetype": "text/x-python",
   "name": "python",
   "nbconvert_exporter": "python",
   "pygments_lexer": "ipython3",
   "version": "3.6.5"
  }
 },
 "nbformat": 4,
 "nbformat_minor": 2
}
