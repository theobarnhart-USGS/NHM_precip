{
 "cells": [
  {
   "cell_type": "markdown",
   "metadata": {},
   "source": [
    "## Script to clip the index raster to each NHM HRU\n",
    "\n",
    "Theodore Barnhart | tbarnhart@usgs.gov"
   ]
  },
  {
   "cell_type": "code",
   "execution_count": 1,
   "metadata": {
    "collapsed": true
   },
   "outputs": [],
   "source": [
    "import geopandas as gpd\n",
    "import subprocess\n",
    "import os"
   ]
  },
  {
   "cell_type": "code",
   "execution_count": 2,
   "metadata": {
    "collapsed": true
   },
   "outputs": [],
   "source": [
    "def make_outpath(df):\n",
    "    outpath = './data/nhrus/AEA_tiffs/HUC_%s_nhruID_%s.tiff'%(df.region,df.nhruID)\n",
    "    return outpath"
   ]
  },
  {
   "cell_type": "code",
   "execution_count": 3,
   "metadata": {
    "collapsed": true
   },
   "outputs": [],
   "source": [
    "def clip_raster(df):\n",
    "    \n",
    "    cutline = df.cutline\n",
    "    feature = df.nhruID\n",
    "    inpath = df.inpath\n",
    "    outpath = df.outpath\n",
    "    \n",
    "    cmd = \"gdalwarp -cutline %s -cwhere hru_id_nat=%s -crop_to_cutline -overwrite %s %s\"%(cutline,\n",
    "        feature,inpath,outpath)\n",
    "    \n",
    "    subprocess.call(cmd,shell=True)\n",
    "    \n",
    "    return None"
   ]
  },
  {
   "cell_type": "code",
   "execution_count": 4,
   "metadata": {
    "collapsed": true
   },
   "outputs": [],
   "source": [
    "def clip_raster_12(df):\n",
    "    \n",
    "    cutline = df.cutline\n",
    "    feature = df.nhruID\n",
    "    inpath = df.inpath\n",
    "    outpath = df.outpath\n",
    "    \n",
    "    cmd = \"gdalwarp -cutline %s -cwhere hru_id=%s -crop_to_cutline -overwrite %s %s\"%(cutline,\n",
    "        feature,inpath,outpath)\n",
    "    \n",
    "    subprocess.call(cmd,shell=True)\n",
    "    \n",
    "    return None"
   ]
  },
  {
   "cell_type": "code",
   "execution_count": 5,
   "metadata": {
    "collapsed": true
   },
   "outputs": [],
   "source": [
    "def runClip(fl,inpath='tmp'):\n",
    "    tmp = gpd.read_file(fl)\n",
    "    dat = pd.DataFrame({'nhruID':tmp.hru_id_nat.unique()}) #dataframe of the unique NHM HRU identifiers\n",
    "    del tmp # close tmp file\n",
    "    \n",
    "    reg = fl.split('_')[-2] # extract the region\n",
    "    \n",
    "    dat['cutline'] = fl # insert the shapefile as the cutline\n",
    "    dat['region'] = reg\n",
    "    dat['inpath'] = inpath # specified\n",
    "    dat['outpath'] = dat.apply(make_outpath,axis=1)\n",
    "    \n",
    "    dat.apply(clip_raster,axis=1) # run the clip code\n",
    "    print('HUC%s Done!'%reg)\n",
    "    # test that the number of files created is the same as the number of features\n",
    "    #files = glob.glob('./data/nhrus/AEA_tiffs/HUC_%s_*.tiff'%(reg))\n",
    "    #if (len(files)-len(dat)) != 0:\n",
    "    #    return 'Error!'"
   ]
  },
  {
   "cell_type": "code",
   "execution_count": 6,
   "metadata": {
    "collapsed": true
   },
   "outputs": [],
   "source": [
    "def runClip_12(fl,inpath='tmp'):\n",
    "    tmp = gpd.read_file(fl)\n",
    "    dat = pd.DataFrame({'nhruID':tmp.hru_id.unique()}) #dataframe of the unique NHM HRU identifiers\n",
    "    del tmp # close tmp file\n",
    "    \n",
    "    reg = fl.split('_')[-2] # extract the region\n",
    "    \n",
    "    dat['cutline'] = fl # insert the shapefile as the cutline\n",
    "    dat['region'] = reg\n",
    "    dat['inpath'] = inpath # specified\n",
    "    dat['outpath'] = dat.apply(make_outpath,axis=1)\n",
    "    \n",
    "    dat.apply(clip_raster_12,axis=1) # run the clip code\n",
    "    print('HUC%s Done!'%reg)\n",
    "    # test that the number of files created is the same as the number of features\n",
    "    #files = glob.glob('./data/nhrus/AEA_tiffs/HUC_%s_*.tiff'%(reg))\n",
    "    #if (len(files)-len(dat)) != 0:\n",
    "    #    return 'Error!'"
   ]
  },
  {
   "cell_type": "code",
   "execution_count": 7,
   "metadata": {
    "collapsed": true
   },
   "outputs": [],
   "source": [
    "def is_file(df):\n",
    "    hru = df.nhruID\n",
    "    reg = df.region\n",
    "    return os.path.isfile('./data/nhrus/AEA_tiffs/HUC_%s_nhruID_%s.tiff'%(reg,hru))"
   ]
  },
  {
   "cell_type": "code",
   "execution_count": 8,
   "metadata": {
    "collapsed": true
   },
   "outputs": [],
   "source": [
    "def parse_out(out):\n",
    "    out = str(out.stdout)\n",
    "    x = int(out.split()[-1].split('L')[0])\n",
    "    y = int(out.split()[-3].split('P')[0])\n",
    "    return x,y"
   ]
  },
  {
   "cell_type": "code",
   "execution_count": 9,
   "metadata": {
    "collapsed": true
   },
   "outputs": [],
   "source": [
    "def clip_raster_output(df):\n",
    "    \n",
    "    cutline = df.cutline\n",
    "    feature = df.nhruID\n",
    "    inpath = df.inpath\n",
    "    outpath = df.outpath\n",
    "    \n",
    "    cmd = \"gdalwarp -cutline %s -cwhere hru_id_nat=%s -crop_to_cutline -overwrite %s %s\"%(cutline,\n",
    "        feature,inpath,outpath)\n",
    "    \n",
    "    out = subprocess.run(cmd,shell=True,stdout=subprocess.PIPE)\n",
    "    \n",
    "    return out"
   ]
  },
  {
   "cell_type": "code",
   "execution_count": 10,
   "metadata": {
    "collapsed": true
   },
   "outputs": [],
   "source": [
    "def clip_raster_output_12(df):\n",
    "    \n",
    "    cutline = df.cutline\n",
    "    feature = df.nhruID\n",
    "    inpath = df.inpath\n",
    "    outpath = df.outpath\n",
    "    \n",
    "    cmd = \"gdalwarp -cutline %s -cwhere hru_id=%s -crop_to_cutline -overwrite %s %s\"%(cutline,\n",
    "        feature,inpath,outpath)\n",
    "    \n",
    "    out = subprocess.run(cmd,shell=True,stdout=subprocess.PIPE)\n",
    "    \n",
    "    return out"
   ]
  },
  {
   "cell_type": "code",
   "execution_count": 11,
   "metadata": {
    "collapsed": true
   },
   "outputs": [],
   "source": [
    "def check(fl,inpath='tmp'):\n",
    "    '''Figure out which HRUS are missing'''\n",
    "    reg = fl.split('_')[-2] # extract the region\n",
    "    tmp = gpd.read_file(fl)\n",
    "    dat = pd.DataFrame({'nhruID':tmp.hru_id_nat.unique()}) #dataframe of the unique NHM HRU identifiers\n",
    "    del tmp # close tmp file\n",
    "    \n",
    "    dat['cutline'] = fl # insert the shapefile as the cutline\n",
    "    dat['region'] = reg\n",
    "    dat['inpath'] = inpath # specified\n",
    "    dat['outpath'] = dat.apply(make_outpath,axis=1)\n",
    "    dat['region'] = reg # insert the region\n",
    "    dat['isfile'] = dat.apply(is_file,axis=1)\n",
    "    \n",
    "    dat2 = dat.loc[dat.isfile==False].copy() # select only the missing files\n",
    "    \n",
    "    if len(dat2) > 0:\n",
    "        dat2['out'] = dat2.apply(clip_raster_output,axis=1) # run the clip routine again, but save the output\n",
    "        res = dat2.out.map(parse_out) # parse the output into the raster size trying to be created\n",
    "        x,y = zip(*res) # unpack the results and put into the dataframe \n",
    "        dat2['cols'] = x\n",
    "        dat2['rows'] = y\n",
    "        dat2['cells'] = dat2.rows*dat2.cols\n",
    "    \n",
    "        if dat2.cells.sum()>0:\n",
    "            print('non-zero raster!')\n",
    "    \n",
    "        return dat2\n",
    "    \n",
    "    elif len(dat) - dat.isfile.sum() == 0:\n",
    "        print('%s Complete!'%reg)"
   ]
  },
  {
   "cell_type": "code",
   "execution_count": 12,
   "metadata": {
    "collapsed": true
   },
   "outputs": [],
   "source": [
    "def check_12(fl,inpath='tmp'):\n",
    "    '''Figure out which HRUS are missing'''\n",
    "    reg = fl.split('_')[-2] # extract the region\n",
    "    tmp = gpd.read_file(fl)\n",
    "    dat = pd.DataFrame({'nhruID':tmp.hru_id.unique()}) #dataframe of the unique NHM HRU identifiers\n",
    "    del tmp # close tmp file\n",
    "    \n",
    "    dat['cutline'] = fl # insert the shapefile as the cutline\n",
    "    dat['region'] = reg\n",
    "    dat['inpath'] = inpath # specified\n",
    "    dat['outpath'] = dat.apply(make_outpath,axis=1)\n",
    "    dat['region'] = reg # insert the region\n",
    "    dat['isfile'] = dat.apply(is_file,axis=1)\n",
    "    \n",
    "    dat2 = dat.loc[dat.isfile==False].copy() # select only the missing files\n",
    "    \n",
    "    if len(dat2) > 0:\n",
    "        dat2['out'] = dat2.apply(clip_raster_output_12,axis=1) # run the clip routine again, but save the output\n",
    "        res = dat2.out.map(parse_out) # parse the output into the raster size trying to be created\n",
    "        x,y = zip(*res) # unpack the results and put into the dataframe \n",
    "        dat2['cols'] = x\n",
    "        dat2['rows'] = y\n",
    "        dat2['cells'] = dat2.rows*dat2.cols\n",
    "    \n",
    "        if dat2.cells.sum()>0:\n",
    "            print('non-zero raster!')\n",
    "    \n",
    "        return dat2\n",
    "    \n",
    "    elif len(dat) - dat.isfile.sum() == 0:\n",
    "        print('%s Complete!'%reg)"
   ]
  },
  {
   "cell_type": "raw",
   "metadata": {
    "collapsed": true
   },
   "source": [
    "files = glob.glob('./data/nhrus/clean_AEA/*.shp')"
   ]
  },
  {
   "cell_type": "code",
   "execution_count": 13,
   "metadata": {
    "collapsed": true
   },
   "outputs": [],
   "source": [
    "newRegions = ['01','02','03','04','05','06','13','14','15','16','17','18','20','21']"
   ]
  },
  {
   "cell_type": "code",
   "execution_count": 14,
   "metadata": {
    "collapsed": true
   },
   "outputs": [],
   "source": [
    "# make new files\n",
    "files = []\n",
    "for reg in newRegions:\n",
    "    files.append('./data/nhrus/clean_AEA/nhru_%s_clean.shp'%reg)"
   ]
  },
  {
   "cell_type": "code",
   "execution_count": 15,
   "metadata": {},
   "outputs": [
    {
     "data": {
      "text/plain": [
       "['./data/nhrus/clean_AEA/nhru_01_clean.shp',\n",
       " './data/nhrus/clean_AEA/nhru_02_clean.shp',\n",
       " './data/nhrus/clean_AEA/nhru_03_clean.shp',\n",
       " './data/nhrus/clean_AEA/nhru_04_clean.shp',\n",
       " './data/nhrus/clean_AEA/nhru_05_clean.shp',\n",
       " './data/nhrus/clean_AEA/nhru_06_clean.shp',\n",
       " './data/nhrus/clean_AEA/nhru_13_clean.shp',\n",
       " './data/nhrus/clean_AEA/nhru_14_clean.shp',\n",
       " './data/nhrus/clean_AEA/nhru_15_clean.shp',\n",
       " './data/nhrus/clean_AEA/nhru_16_clean.shp',\n",
       " './data/nhrus/clean_AEA/nhru_17_clean.shp',\n",
       " './data/nhrus/clean_AEA/nhru_18_clean.shp',\n",
       " './data/nhrus/clean_AEA/nhru_20_clean.shp',\n",
       " './data/nhrus/clean_AEA/nhru_21_clean.shp']"
      ]
     },
     "execution_count": 15,
     "metadata": {},
     "output_type": "execute_result"
    }
   ],
   "source": [
    "files"
   ]
  },
  {
   "cell_type": "raw",
   "metadata": {},
   "source": [
    "# just run region 12\n",
    "runClip_12(files[-1],inpath='./data/hrap_grid_AEA_idx_sm.tiff')"
   ]
  },
  {
   "cell_type": "raw",
   "metadata": {},
   "source": [
    "check_12(files[-1],inpath='./data/hrap_grid_AEA_idx_sm.tiff')"
   ]
  },
  {
   "cell_type": "code",
   "execution_count": 17,
   "metadata": {
    "collapsed": true
   },
   "outputs": [],
   "source": [
    "files = pd.DataFrame({'file':files})"
   ]
  },
  {
   "cell_type": "code",
   "execution_count": null,
   "metadata": {},
   "outputs": [],
   "source": [
    "files.file.apply(runClip,inpath='./data/hrap_grid_AEA_idx_sm.tiff')"
   ]
  },
  {
   "cell_type": "code",
   "execution_count": 19,
   "metadata": {},
   "outputs": [],
   "source": [
    "missing = files.file.apply(check,inpath='./data/hrap_grid_AEA_idx_sm.tiff')"
   ]
  },
  {
   "cell_type": "markdown",
   "metadata": {},
   "source": [
    "## Code the few remaining cells by hand"
   ]
  },
  {
   "cell_type": "code",
   "execution_count": 15,
   "metadata": {},
   "outputs": [
    {
     "data": {
      "text/html": [
       "<div>\n",
       "<style>\n",
       "    .dataframe thead tr:only-child th {\n",
       "        text-align: right;\n",
       "    }\n",
       "\n",
       "    .dataframe thead th {\n",
       "        text-align: left;\n",
       "    }\n",
       "\n",
       "    .dataframe tbody tr th {\n",
       "        vertical-align: top;\n",
       "    }\n",
       "</style>\n",
       "<table border=\"1\" class=\"dataframe\">\n",
       "  <thead>\n",
       "    <tr style=\"text-align: right;\">\n",
       "      <th></th>\n",
       "      <th>nhruID</th>\n",
       "      <th>cutline</th>\n",
       "      <th>region</th>\n",
       "      <th>inpath</th>\n",
       "      <th>outpath</th>\n",
       "      <th>isfile</th>\n",
       "      <th>out</th>\n",
       "      <th>cols</th>\n",
       "      <th>rows</th>\n",
       "      <th>cells</th>\n",
       "    </tr>\n",
       "  </thead>\n",
       "  <tbody>\n",
       "    <tr>\n",
       "      <th>2</th>\n",
       "      <td>40817</td>\n",
       "      <td>./data/nhrus/clean_AEA/nhru_08_clean.shp</td>\n",
       "      <td>08</td>\n",
       "      <td>./data/hrap_grid_AEA_idx_sm.tiff</td>\n",
       "      <td>./data/nhrus/AEA_tiffs/HUC_08_nhruID_40817.tiff</td>\n",
       "      <td>False</td>\n",
       "      <td>CompletedProcess(args='gdalwarp -cutline ./dat...</td>\n",
       "      <td>1</td>\n",
       "      <td>0</td>\n",
       "      <td>0</td>\n",
       "    </tr>\n",
       "    <tr>\n",
       "      <th>95</th>\n",
       "      <td>40910</td>\n",
       "      <td>./data/nhrus/clean_AEA/nhru_08_clean.shp</td>\n",
       "      <td>08</td>\n",
       "      <td>./data/hrap_grid_AEA_idx_sm.tiff</td>\n",
       "      <td>./data/nhrus/AEA_tiffs/HUC_08_nhruID_40910.tiff</td>\n",
       "      <td>False</td>\n",
       "      <td>CompletedProcess(args='gdalwarp -cutline ./dat...</td>\n",
       "      <td>0</td>\n",
       "      <td>1</td>\n",
       "      <td>0</td>\n",
       "    </tr>\n",
       "    <tr>\n",
       "      <th>111</th>\n",
       "      <td>40926</td>\n",
       "      <td>./data/nhrus/clean_AEA/nhru_08_clean.shp</td>\n",
       "      <td>08</td>\n",
       "      <td>./data/hrap_grid_AEA_idx_sm.tiff</td>\n",
       "      <td>./data/nhrus/AEA_tiffs/HUC_08_nhruID_40926.tiff</td>\n",
       "      <td>False</td>\n",
       "      <td>CompletedProcess(args='gdalwarp -cutline ./dat...</td>\n",
       "      <td>0</td>\n",
       "      <td>0</td>\n",
       "      <td>0</td>\n",
       "    </tr>\n",
       "  </tbody>\n",
       "</table>\n",
       "</div>"
      ],
      "text/plain": [
       "     nhruID                                   cutline region  \\\n",
       "2     40817  ./data/nhrus/clean_AEA/nhru_08_clean.shp     08   \n",
       "95    40910  ./data/nhrus/clean_AEA/nhru_08_clean.shp     08   \n",
       "111   40926  ./data/nhrus/clean_AEA/nhru_08_clean.shp     08   \n",
       "\n",
       "                               inpath  \\\n",
       "2    ./data/hrap_grid_AEA_idx_sm.tiff   \n",
       "95   ./data/hrap_grid_AEA_idx_sm.tiff   \n",
       "111  ./data/hrap_grid_AEA_idx_sm.tiff   \n",
       "\n",
       "                                             outpath  isfile  \\\n",
       "2    ./data/nhrus/AEA_tiffs/HUC_08_nhruID_40817.tiff   False   \n",
       "95   ./data/nhrus/AEA_tiffs/HUC_08_nhruID_40910.tiff   False   \n",
       "111  ./data/nhrus/AEA_tiffs/HUC_08_nhruID_40926.tiff   False   \n",
       "\n",
       "                                                   out  cols  rows  cells  \n",
       "2    CompletedProcess(args='gdalwarp -cutline ./dat...     1     0      0  \n",
       "95   CompletedProcess(args='gdalwarp -cutline ./dat...     0     1      0  \n",
       "111  CompletedProcess(args='gdalwarp -cutline ./dat...     0     0      0  "
      ]
     },
     "execution_count": 15,
     "metadata": {},
     "output_type": "execute_result"
    }
   ],
   "source": [
    "missing[1]"
   ]
  },
  {
   "cell_type": "code",
   "execution_count": 23,
   "metadata": {
    "collapsed": true
   },
   "outputs": [],
   "source": [
    "reg08_NHRU = [40817,40910,40926,40826,40827,40891,40908,41064]\n",
    "reg08_cells = [[788822],[780963],[772030],[778776],[778776],[776509],[780963],[760827]]\n",
    "reg08_percents = [[1],[1],[1],[1],[1],[1],[1],[1]]"
   ]
  },
  {
   "cell_type": "code",
   "execution_count": 25,
   "metadata": {
    "collapsed": true
   },
   "outputs": [],
   "source": [
    "reg08 = pd.DataFrame()\n",
    "reg08['nhruID'] = reg08_NHRU\n",
    "reg08['reg_hruID'] = [3,96,112,12,13,77,94,250]\n",
    "reg08['cells'] = reg08_cells\n",
    "reg08['percents'] = reg08_percents\n",
    "reg08['reg'] = '08'"
   ]
  },
  {
   "cell_type": "code",
   "execution_count": 26,
   "metadata": {
    "collapsed": true
   },
   "outputs": [],
   "source": [
    "reg08.to_pickle('./data/reg08_unclipped.pcl')"
   ]
  },
  {
   "cell_type": "code",
   "execution_count": 27,
   "metadata": {},
   "outputs": [
    {
     "data": {
      "text/html": [
       "<div>\n",
       "<style>\n",
       "    .dataframe thead tr:only-child th {\n",
       "        text-align: right;\n",
       "    }\n",
       "\n",
       "    .dataframe thead th {\n",
       "        text-align: left;\n",
       "    }\n",
       "\n",
       "    .dataframe tbody tr th {\n",
       "        vertical-align: top;\n",
       "    }\n",
       "</style>\n",
       "<table border=\"1\" class=\"dataframe\">\n",
       "  <thead>\n",
       "    <tr style=\"text-align: right;\">\n",
       "      <th></th>\n",
       "      <th>nhruID</th>\n",
       "      <th>cutline</th>\n",
       "      <th>region</th>\n",
       "      <th>inpath</th>\n",
       "      <th>outpath</th>\n",
       "      <th>isfile</th>\n",
       "      <th>out</th>\n",
       "      <th>cols</th>\n",
       "      <th>rows</th>\n",
       "      <th>cells</th>\n",
       "    </tr>\n",
       "  </thead>\n",
       "  <tbody>\n",
       "    <tr>\n",
       "      <th>8081</th>\n",
       "      <td>63665</td>\n",
       "      <td>./data/nhrus/clean_AEA/nhru_10U_clean.shp</td>\n",
       "      <td>10U</td>\n",
       "      <td>./data/hrap_grid_AEA_idx_sm.tiff</td>\n",
       "      <td>./data/nhrus/AEA_tiffs/HUC_10U_nhruID_63665.tiff</td>\n",
       "      <td>False</td>\n",
       "      <td>CompletedProcess(args='gdalwarp -cutline ./dat...</td>\n",
       "      <td>0</td>\n",
       "      <td>1</td>\n",
       "      <td>0</td>\n",
       "    </tr>\n",
       "    <tr>\n",
       "      <th>8097</th>\n",
       "      <td>63681</td>\n",
       "      <td>./data/nhrus/clean_AEA/nhru_10U_clean.shp</td>\n",
       "      <td>10U</td>\n",
       "      <td>./data/hrap_grid_AEA_idx_sm.tiff</td>\n",
       "      <td>./data/nhrus/AEA_tiffs/HUC_10U_nhruID_63681.tiff</td>\n",
       "      <td>False</td>\n",
       "      <td>CompletedProcess(args='gdalwarp -cutline ./dat...</td>\n",
       "      <td>0</td>\n",
       "      <td>1</td>\n",
       "      <td>0</td>\n",
       "    </tr>\n",
       "  </tbody>\n",
       "</table>\n",
       "</div>"
      ],
      "text/plain": [
       "      nhruID                                    cutline region  \\\n",
       "8081   63665  ./data/nhrus/clean_AEA/nhru_10U_clean.shp    10U   \n",
       "8097   63681  ./data/nhrus/clean_AEA/nhru_10U_clean.shp    10U   \n",
       "\n",
       "                                inpath  \\\n",
       "8081  ./data/hrap_grid_AEA_idx_sm.tiff   \n",
       "8097  ./data/hrap_grid_AEA_idx_sm.tiff   \n",
       "\n",
       "                                               outpath  isfile  \\\n",
       "8081  ./data/nhrus/AEA_tiffs/HUC_10U_nhruID_63665.tiff   False   \n",
       "8097  ./data/nhrus/AEA_tiffs/HUC_10U_nhruID_63681.tiff   False   \n",
       "\n",
       "                                                    out  cols  rows  cells  \n",
       "8081  CompletedProcess(args='gdalwarp -cutline ./dat...     0     1      0  \n",
       "8097  CompletedProcess(args='gdalwarp -cutline ./dat...     0     1      0  "
      ]
     },
     "execution_count": 27,
     "metadata": {},
     "output_type": "execute_result"
    }
   ],
   "source": [
    "missing[4]"
   ]
  },
  {
   "cell_type": "code",
   "execution_count": 28,
   "metadata": {
    "collapsed": true
   },
   "outputs": [],
   "source": [
    "reg10U_NHRU = [63665,63681]\n",
    "reg10U_cells = [[354526],[354513]]\n",
    "reg10U_percents = [[1],[1]]"
   ]
  },
  {
   "cell_type": "code",
   "execution_count": 29,
   "metadata": {
    "collapsed": true
   },
   "outputs": [],
   "source": [
    "reg10U = pd.DataFrame()\n",
    "reg10U['nhruID'] = reg10U_NHRU\n",
    "reg10U['reg_hruID'] = [8082,8098]\n",
    "reg10U['cells'] = reg10U_cells\n",
    "reg10U['percents'] = reg10U_percents\n",
    "reg10U['reg'] = '10U'"
   ]
  },
  {
   "cell_type": "code",
   "execution_count": 30,
   "metadata": {
    "collapsed": true
   },
   "outputs": [],
   "source": [
    "reg10U.to_pickle('./data/reg10U_unclipped.pcl')"
   ]
  },
  {
   "cell_type": "code",
   "execution_count": null,
   "metadata": {
    "collapsed": true
   },
   "outputs": [],
   "source": []
  }
 ],
 "metadata": {
  "kernelspec": {
   "display_name": "Python 3",
   "language": "python",
   "name": "python3"
  },
  "language_info": {
   "codemirror_mode": {
    "name": "ipython",
    "version": 3
   },
   "file_extension": ".py",
   "mimetype": "text/x-python",
   "name": "python",
   "nbconvert_exporter": "python",
   "pygments_lexer": "ipython3",
   "version": "3.6.2"
  }
 },
 "nbformat": 4,
 "nbformat_minor": 2
}
