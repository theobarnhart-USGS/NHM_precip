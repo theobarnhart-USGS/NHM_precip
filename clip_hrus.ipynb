{
 "cells": [
  {
   "cell_type": "markdown",
   "metadata": {},
   "source": [
    "## Script to clip the index raster to each NHM HRU\n",
    "\n",
    "Theodore Barnhart | tbarnhart@usgs.gov"
   ]
  },
  {
   "cell_type": "code",
   "execution_count": 1,
   "metadata": {
    "collapsed": true
   },
   "outputs": [],
   "source": [
    "import geopandas as gpd\n",
    "import subprocess\n",
    "import os"
   ]
  },
  {
   "cell_type": "code",
   "execution_count": 2,
   "metadata": {
    "collapsed": true
   },
   "outputs": [],
   "source": [
    "def make_outpath(df):\n",
    "    outpath = './data/nhrus/AEA_tiffs/HUC_%s_nhruID_%s.tiff'%(df.region,df.nhruID)\n",
    "    return outpath"
   ]
  },
  {
   "cell_type": "code",
   "execution_count": 3,
   "metadata": {
    "collapsed": true
   },
   "outputs": [],
   "source": [
    "def clip_raster(df):\n",
    "    \n",
    "    cutline = df.cutline\n",
    "    feature = df.nhruID\n",
    "    inpath = df.inpath\n",
    "    outpath = df.outpath\n",
    "    \n",
    "    cmd = \"gdalwarp -cutline %s -cwhere hru_id_nat=%s -crop_to_cutline -overwrite %s %s\"%(cutline,\n",
    "        feature,inpath,outpath)\n",
    "    \n",
    "    subprocess.call(cmd,shell=True)\n",
    "    \n",
    "    return None"
   ]
  },
  {
   "cell_type": "code",
   "execution_count": 4,
   "metadata": {
    "collapsed": true
   },
   "outputs": [],
   "source": [
    "def runClip(fl,inpath='tmp'):\n",
    "    tmp = gpd.read_file(fl)\n",
    "    dat = pd.DataFrame({'nhruID':tmp.hru_id_nat.unique()}) #dataframe of the unique NHM HRU identifiers\n",
    "    del tmp # close tmp file\n",
    "    \n",
    "    reg = fl.split('_')[-2] # extract the region\n",
    "    \n",
    "    dat['cutline'] = fl # insert the shapefile as the cutline\n",
    "    dat['region'] = reg\n",
    "    dat['inpath'] = inpath # specified\n",
    "    dat['outpath'] = dat.apply(make_outpath,axis=1)\n",
    "    \n",
    "    dat.apply(clip_raster,axis=1) # run the clip code\n",
    "    print('Done!')\n",
    "    # test that the number of files created is the same as the number of features\n",
    "    #files = glob.glob('./data/nhrus/AEA_tiffs/HUC_%s_*.tiff'%(reg))\n",
    "    #if (len(files)-len(dat)) != 0:\n",
    "    #    return 'Error!'"
   ]
  },
  {
   "cell_type": "code",
   "execution_count": 5,
   "metadata": {},
   "outputs": [],
   "source": [
    "def is_file(df):\n",
    "    hru = df.nhruID\n",
    "    reg = df.region\n",
    "    return os.path.isfile('./data/nhrus/AEA_tiffs/HUC_%s_nhruID_%s.tiff'%(reg,hru))"
   ]
  },
  {
   "cell_type": "code",
   "execution_count": 6,
   "metadata": {
    "collapsed": true
   },
   "outputs": [],
   "source": [
    "def parse_out(out):\n",
    "    out = str(out.stdout)\n",
    "    x = int(out.split()[-1].split('L')[0])\n",
    "    y = int(out.split()[-3].split('P')[0])\n",
    "    return x,y"
   ]
  },
  {
   "cell_type": "code",
   "execution_count": 7,
   "metadata": {
    "collapsed": true
   },
   "outputs": [],
   "source": [
    "def clip_raster_output(df):\n",
    "    \n",
    "    cutline = df.cutline\n",
    "    feature = df.nhruID\n",
    "    inpath = df.inpath\n",
    "    outpath = df.outpath\n",
    "    \n",
    "    cmd = \"gdalwarp -cutline %s -cwhere hru_id_nat=%s -crop_to_cutline -overwrite %s %s\"%(cutline,\n",
    "        feature,inpath,outpath)\n",
    "    \n",
    "    out = subprocess.run(cmd,shell=True,stdout=subprocess.PIPE)\n",
    "    \n",
    "    return out"
   ]
  },
  {
   "cell_type": "code",
   "execution_count": 8,
   "metadata": {
    "collapsed": true
   },
   "outputs": [],
   "source": [
    "def check(fl,inpath='tmp'):\n",
    "    '''Figure out which HRUS are missing'''\n",
    "    reg = fl.split('_')[-2] # extract the region\n",
    "    tmp = gpd.read_file(fl)\n",
    "    dat = pd.DataFrame({'nhruID':tmp.hru_id_nat.unique()}) #dataframe of the unique NHM HRU identifiers\n",
    "    del tmp # close tmp file\n",
    "    \n",
    "    dat['cutline'] = fl # insert the shapefile as the cutline\n",
    "    dat['region'] = reg\n",
    "    dat['inpath'] = inpath # specified\n",
    "    dat['outpath'] = dat.apply(make_outpath,axis=1)\n",
    "    dat['region'] = reg # insert the region\n",
    "    dat['isfile'] = dat.apply(is_file,axis=1)\n",
    "    \n",
    "    dat = dat.loc[dat.isfile==False].copy() # select only the missing files\n",
    "    \n",
    "    dat['out'] = dat.apply(clip_raster_output,axis=1) # run the clip routine again, but save the output\n",
    "    res = dat.out.map(parse_out) # parse the output into the raster size trying to be created\n",
    "    x,y = zip(*res) # unpack the results and put into the dataframe \n",
    "    dat['cols'] = x\n",
    "    dat['rows'] = y\n",
    "    dat['cells'] = dat.rows*dat.cols\n",
    "    \n",
    "    if dat.cells.sum()>0:\n",
    "        print('non-zero raster!')\n",
    "    \n",
    "    return dat"
   ]
  },
  {
   "cell_type": "code",
   "execution_count": 9,
   "metadata": {
    "collapsed": true
   },
   "outputs": [],
   "source": [
    "files = glob.glob('./data/nhrus/clean_AEA/*.shp')"
   ]
  },
  {
   "cell_type": "code",
   "execution_count": 10,
   "metadata": {},
   "outputs": [],
   "source": [
    "files = pd.DataFrame({'file':files})"
   ]
  },
  {
   "cell_type": "code",
   "execution_count": null,
   "metadata": {},
   "outputs": [
    {
     "name": "stdout",
     "output_type": "stream",
     "text": [
      "Done!\n",
      "Done!\n",
      "Done!\n"
     ]
    }
   ],
   "source": [
    "files.file.apply(runClip,inpath='./data/hrap_grid_AEA_sm_95_25.tiff')"
   ]
  },
  {
   "cell_type": "code",
   "execution_count": 105,
   "metadata": {},
   "outputs": [],
   "source": [
    "missing = files.file.apply(check,inpath='./data/hrap_grid_AEA_sm_95_25.tiff')"
   ]
  },
  {
   "cell_type": "code",
   "execution_count": 115,
   "metadata": {},
   "outputs": [
    {
     "name": "stdout",
     "output_type": "stream",
     "text": [
      "0\n",
      "0\n",
      "0\n",
      "0\n",
      "0\n",
      "0\n"
     ]
    }
   ],
   "source": [
    "for mis in missing:\n",
    "    print(mis.cells.sum())"
   ]
  },
  {
   "cell_type": "code",
   "execution_count": 116,
   "metadata": {},
   "outputs": [
    {
     "data": {
      "text/plain": [
       "6"
      ]
     },
     "execution_count": 116,
     "metadata": {},
     "output_type": "execute_result"
    }
   ],
   "source": [
    "len(files)"
   ]
  }
 ],
 "metadata": {
  "kernelspec": {
   "display_name": "Python 3",
   "language": "python",
   "name": "python3"
  },
  "language_info": {
   "codemirror_mode": {
    "name": "ipython",
    "version": 3
   },
   "file_extension": ".py",
   "mimetype": "text/x-python",
   "name": "python",
   "nbconvert_exporter": "python",
   "pygments_lexer": "ipython3",
   "version": "3.6.2"
  }
 },
 "nbformat": 4,
 "nbformat_minor": 2
}
