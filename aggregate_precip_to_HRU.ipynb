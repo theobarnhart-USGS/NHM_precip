{
 "cells": [
  {
   "cell_type": "markdown",
   "metadata": {},
   "source": [
    "# Aggregate gridded data to HRU using areal averaging\n",
    "\n",
    "### Output Format:\n",
    "\n",
    "year month day hour minute second hru1 hru2 hru3\n",
    "\n",
    "1996 10 1 0 0 0 0.004 0.050 0.070\n",
    "\n",
    "1996 10 2 0 0 0 0.500 0.040 0.100"
   ]
  },
  {
   "cell_type": "code",
   "execution_count": 10,
   "metadata": {},
   "outputs": [],
   "source": [
    "import rasterio as rs\n",
    "import geopandas as gpd\n",
    "import netCDF4"
   ]
  },
  {
   "cell_type": "code",
   "execution_count": 2,
   "metadata": {
    "collapsed": true
   },
   "outputs": [],
   "source": [
    "# list regions\n",
    "regions = glob.glob('./data/nhrus/clean_AEA/nhru_*_clean.shp')"
   ]
  },
  {
   "cell_type": "code",
   "execution_count": 3,
   "metadata": {
    "collapsed": true
   },
   "outputs": [],
   "source": [
    "fl = regions[0]"
   ]
  },
  {
   "cell_type": "code",
   "execution_count": 4,
   "metadata": {
    "collapsed": true
   },
   "outputs": [],
   "source": [
    "# first generate a list of hrus and their grid cell contributions\n",
    "tmp = gpd.read_file(fl)\n",
    "dat = pd.DataFrame()\n",
    "dat['nhruID'] = tmp.hru_id_nat.unique()\n",
    "reg = fl.split('_')[-2]\n"
   ]
  },
  {
   "cell_type": "code",
   "execution_count": 8,
   "metadata": {},
   "outputs": [],
   "source": [
    "reg = fl.split('_')[-2]"
   ]
  },
  {
   "cell_type": "code",
   "execution_count": 3,
   "metadata": {
    "collapsed": true
   },
   "outputs": [],
   "source": [
    "# load the hrap index grid and grab the cell centers\n",
    "fl = './data/hrap_grid_med_wgs84.tiff' # index grid with 10 cells / actual cell for partial contributions to the HRUs\n",
    "\n",
    "with rs.open(fl) as r:\n",
    "    T0 = r.affine\n",
    "    p1 = Proj(r.crs)\n",
    "    A = r.read(1)\n",
    "    \n",
    "cols,rows = np.meshgrid(np.arange(A.shape[1]),np.arange(A.shape[0]))\n",
    "\n",
    "T1 = T0 * Affine.translation(0.5,0.5)\n",
    "\n",
    "rc2en = lambda r, c: (c,r)*T1\n",
    "\n",
    "lon,lat = np.vectorize(rc2en)(rows,cols)"
   ]
  },
  {
   "cell_type": "code",
   "execution_count": 4,
   "metadata": {
    "collapsed": true
   },
   "outputs": [],
   "source": [
    "def create_geom(df):\n",
    "    return Point(df.lon,df.lat)"
   ]
  },
  {
   "cell_type": "code",
   "execution_count": 5,
   "metadata": {
    "collapsed": true
   },
   "outputs": [],
   "source": [
    "n,m = lon.shape\n",
    "\n",
    "lon.shape = n*m\n",
    "lat.shape = n*m\n",
    "A.shape = n*m"
   ]
  },
  {
   "cell_type": "code",
   "execution_count": 6,
   "metadata": {},
   "outputs": [
    {
     "data": {
      "text/plain": [
       "36029477"
      ]
     },
     "execution_count": 6,
     "metadata": {},
     "output_type": "execute_result"
    }
   ],
   "source": [
    "len(lon)"
   ]
  },
  {
   "cell_type": "code",
   "execution_count": 7,
   "metadata": {
    "collapsed": true
   },
   "outputs": [],
   "source": [
    "df = pd.DataFrame({'lon':lon,'lat':lat,'idx':A})\n",
    "\n",
    "del lon; del lat; del A"
   ]
  },
  {
   "cell_type": "code",
   "execution_count": 8,
   "metadata": {
    "collapsed": true
   },
   "outputs": [],
   "source": [
    "geometry = df.apply(create_geom,axis=1)"
   ]
  },
  {
   "cell_type": "code",
   "execution_count": 9,
   "metadata": {
    "collapsed": true
   },
   "outputs": [],
   "source": [
    "df = df.drop(['lon','lat'],axis=1)\n",
    "crs = {'init':'epsg:4326'}"
   ]
  },
  {
   "cell_type": "code",
   "execution_count": 10,
   "metadata": {
    "collapsed": true
   },
   "outputs": [],
   "source": [
    "df = gpd.GeoDataFrame(df,crs=crs,geometry=geometry)"
   ]
  },
  {
   "cell_type": "code",
   "execution_count": 1,
   "metadata": {},
   "outputs": [
    {
     "ename": "NameError",
     "evalue": "name 'df' is not defined",
     "output_type": "error",
     "traceback": [
      "\u001b[0;31m---------------------------------------------------------------------------\u001b[0m",
      "\u001b[0;31mNameError\u001b[0m                                 Traceback (most recent call last)",
      "\u001b[0;32m<ipython-input-1-c28e32a40f01>\u001b[0m in \u001b[0;36m<module>\u001b[0;34m()\u001b[0m\n\u001b[0;32m----> 1\u001b[0;31m \u001b[0mdf\u001b[0m\u001b[0;34m.\u001b[0m\u001b[0mto_file\u001b[0m\u001b[0;34m(\u001b[0m\u001b[0;34m'./data/index.geojson'\u001b[0m\u001b[0;34m,\u001b[0m\u001b[0mdriver\u001b[0m\u001b[0;34m=\u001b[0m\u001b[0;34m'GeoJSON'\u001b[0m\u001b[0;34m)\u001b[0m\u001b[0;34m\u001b[0m\u001b[0m\n\u001b[0m",
      "\u001b[0;31mNameError\u001b[0m: name 'df' is not defined"
     ]
    }
   ],
   "source": [
    "df.to_file('./data/index.geojson',driver='GeoJSON')"
   ]
  },
  {
   "cell_type": "code",
   "execution_count": 10,
   "metadata": {
    "collapsed": true
   },
   "outputs": [],
   "source": [
    "p2 = Proj(proj='latlong',datum='WGS84')\n",
    "longs,lats = transform(p1,p2,eastings,northings)"
   ]
  },
  {
   "cell_type": "code",
   "execution_count": 14,
   "metadata": {
    "collapsed": true
   },
   "outputs": [],
   "source": [
    "n,m = longs.shape\n",
    "\n",
    "longs.shape = (n*m)\n",
    "lats.shape = (n*m)\n",
    "A.shape = (n*m)"
   ]
  },
  {
   "cell_type": "code",
   "execution_count": 15,
   "metadata": {
    "collapsed": true
   },
   "outputs": [],
   "source": [
    "df = pd.DataFrame({'lon':longs,'lat':lats,'idx':A})"
   ]
  },
  {
   "cell_type": "code",
   "execution_count": 16,
   "metadata": {
    "collapsed": true
   },
   "outputs": [],
   "source": [
    "del longs\n",
    "del lats\n",
    "del A"
   ]
  },
  {
   "cell_type": "code",
   "execution_count": null,
   "metadata": {
    "collapsed": true
   },
   "outputs": [],
   "source": [
    "geometry = [Point(x,y) for x,y in zip(df.lon,df.lat)]\n",
    "df = df.drop(['lon','lat'],axis=1)\n",
    "crs = {'init':'epsg:4326'}"
   ]
  },
  {
   "cell_type": "code",
   "execution_count": null,
   "metadata": {
    "collapsed": true
   },
   "outputs": [],
   "source": []
  }
 ],
 "metadata": {
  "kernelspec": {
   "display_name": "Python 3",
   "language": "python",
   "name": "python3"
  },
  "language_info": {
   "codemirror_mode": {
    "name": "ipython",
    "version": 3
   },
   "file_extension": ".py",
   "mimetype": "text/x-python",
   "name": "python",
   "nbconvert_exporter": "python",
   "pygments_lexer": "ipython3",
   "version": "3.6.2"
  }
 },
 "nbformat": 4,
 "nbformat_minor": 2
}
