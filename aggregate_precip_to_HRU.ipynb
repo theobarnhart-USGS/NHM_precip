{
 "cells": [
  {
   "cell_type": "markdown",
   "metadata": {},
   "source": [
    "# Aggregate gridded data to HRU using areal averaging\n",
    "\n",
    "### Output Format:\n",
    "\n",
    "year month day hour minute second hru1 hru2 hru3\n",
    "\n",
    "1996 10 1 0 0 0 0.004 0.050 0.070\n",
    "\n",
    "1996 10 2 0 0 0 0.500 0.040 0.100"
   ]
  },
  {
   "cell_type": "code",
   "execution_count": 37,
   "metadata": {
    "collapsed": true
   },
   "outputs": [],
   "source": [
    "import rasterio as rs\n",
    "import geopandas as gpd\n",
    "from netCDF4 import Dataset\n",
    "import os\n",
    "import datetime"
   ]
  },
  {
   "cell_type": "code",
   "execution_count": 2,
   "metadata": {
    "collapsed": true
   },
   "outputs": [],
   "source": [
    "def process_tiffs(df):\n",
    "    reg = df.reg\n",
    "    nhru = df.nhruID\n",
    "    \n",
    "    fl = './data/nhrus/AEA_tiffs/HUC_%s_nhruID_%s.tiff'%(reg,nhru)\n",
    "    \n",
    "    if os.path.isfile(fl): # only proceed if the tiff exists\n",
    "        with rs.open(fl) as ds:\n",
    "            rast = ds.read(1)\n",
    "\n",
    "        n,m = rast.shape\n",
    "        rast.shape = n*m\n",
    "        rast = rast[rast!=0] # remove no data cells\n",
    "        k = float(len(rast))\n",
    "\n",
    "        cells = np.unique(rast)\n",
    "        #print(len(cells))\n",
    "        percents = []\n",
    "        for cell in cells:\n",
    "            percents.append(len(rast[rast==cell])/k) # divide by the total cells in the basin to get the propotion of each cell in the basin\n",
    "\n",
    "        cells = list(cells)\n",
    "        return cells,percents\n",
    "    \n",
    "    else:\n",
    "        return [],[]"
   ]
  },
  {
   "cell_type": "code",
   "execution_count": 27,
   "metadata": {
    "collapsed": true
   },
   "outputs": [],
   "source": [
    "def compute_contributions(fl,test=False):\n",
    "    tmp = gpd.read_file(fl)\n",
    "    dat = pd.DataFrame() # first generate a list of hrus and their grid cell contributions\n",
    "    dat['nhruID'] = tmp.hru_id_nat\n",
    "    dat['reg_hruID'] = tmp.hru_id_reg\n",
    "    reg = fl.split('_')[-2]\n",
    "    dat['reg'] = tmp.region\n",
    "    cells,percents = zip(*dat.apply(process_tiffs,axis=1)) # run the aggregation function\n",
    "    dat['cells'] = cells # insert results back into the dataframe\n",
    "    dat['percents'] = percents\n",
    "\n",
    "    if (reg == '08') | (reg == '10U'): # if either of these regions occur\n",
    "        dat2 = pd.read_pickle('./data/reg%s_unclipped.pcl'%reg) # load the missing data\n",
    "        \n",
    "        for nhru in dat2.nhruID: # remove the overlapping rows from the data frame\n",
    "            dat = dat[dat.nhruID != nhru]\n",
    "        \n",
    "        dat = dat.append(dat2) # merge the two dataframes\n",
    "    \n",
    "    # write some tests\n",
    "    if test:\n",
    "        # do all the percentages equal very close to 1\n",
    "        def test_percent(df):\n",
    "            perc = np.sum(df.percents)\n",
    "            if 1-perc > 0.0001:\n",
    "                print('percent does not sum: %s: %s'%(1-perc,df.nhruID))\n",
    "            \n",
    "        dat.apply(test_percent,axis=1)\n",
    "        # is the length of the original df the same as the produced one\n",
    "        if len(tmp) - len(dat) > 0:\n",
    "            print('data frames are different lengths')\n",
    "    \n",
    "    dat.to_pickle('./data/nhru_contrib/huc_%s_cell_contrib.pcl'%reg)\n",
    "    print('%s Complete!'%reg)"
   ]
  },
  {
   "cell_type": "code",
   "execution_count": 28,
   "metadata": {
    "collapsed": true
   },
   "outputs": [],
   "source": [
    "# list regions\n",
    "regions = glob.glob('./data/nhrus/clean_AEA/nhru_*_clean.shp')"
   ]
  },
  {
   "cell_type": "code",
   "execution_count": 29,
   "metadata": {},
   "outputs": [
    {
     "name": "stdout",
     "output_type": "stream",
     "text": [
      "07 Complete!\n",
      "percent does not sum: 1.0: 40826\n",
      "percent does not sum: 1.0: 40827\n",
      "percent does not sum: 1.0: 40891\n",
      "percent does not sum: 1.0: 40908\n",
      "percent does not sum: 1.0: 41064\n",
      "08 Complete!\n",
      "09 Complete!\n",
      "10L Complete!\n",
      "10U Complete!\n",
      "11 Complete!\n"
     ]
    },
    {
     "data": {
      "text/plain": [
       "[None, None, None, None, None, None]"
      ]
     },
     "execution_count": 29,
     "metadata": {},
     "output_type": "execute_result"
    }
   ],
   "source": [
    "[compute_contributions(reg,test=True) for reg in regions]"
   ]
  },
  {
   "cell_type": "markdown",
   "metadata": {},
   "source": [
    "### Note:\n",
    "HUC8 has a few issues..."
   ]
  },
  {
   "cell_type": "markdown",
   "metadata": {},
   "source": [
    "# Crop the radar data by each HRU:"
   ]
  },
  {
   "cell_type": "code",
   "execution_count": 34,
   "metadata": {
    "collapsed": true
   },
   "outputs": [],
   "source": [
    "dat = pd.read_pickle('./data/nhru_contrib/huc_07_cell_contrib.pcl') # load some trial data\n",
    "dat.sort_values('reg_hruID',inplace=True)"
   ]
  },
  {
   "cell_type": "code",
   "execution_count": 35,
   "metadata": {},
   "outputs": [
    {
     "data": {
      "text/html": [
       "<div>\n",
       "<style>\n",
       "    .dataframe thead tr:only-child th {\n",
       "        text-align: right;\n",
       "    }\n",
       "\n",
       "    .dataframe thead th {\n",
       "        text-align: left;\n",
       "    }\n",
       "\n",
       "    .dataframe tbody tr th {\n",
       "        vertical-align: top;\n",
       "    }\n",
       "</style>\n",
       "<table border=\"1\" class=\"dataframe\">\n",
       "  <thead>\n",
       "    <tr style=\"text-align: right;\">\n",
       "      <th></th>\n",
       "      <th>nhruID</th>\n",
       "      <th>reg_hruID</th>\n",
       "      <th>reg</th>\n",
       "      <th>cells</th>\n",
       "      <th>percents</th>\n",
       "    </tr>\n",
       "  </thead>\n",
       "  <tbody>\n",
       "    <tr>\n",
       "      <th>0</th>\n",
       "      <td>32610</td>\n",
       "      <td>1</td>\n",
       "      <td>07</td>\n",
       "      <td>[721, 722]</td>\n",
       "      <td>[0.6408839779005525, 0.35911602209944754]</td>\n",
       "    </tr>\n",
       "    <tr>\n",
       "      <th>1</th>\n",
       "      <td>32611</td>\n",
       "      <td>2</td>\n",
       "      <td>07</td>\n",
       "      <td>[737, 738, 739, 740, 741]</td>\n",
       "      <td>[0.1377341251713111, 0.40566468707172226, 0.30...</td>\n",
       "    </tr>\n",
       "    <tr>\n",
       "      <th>2</th>\n",
       "      <td>32612</td>\n",
       "      <td>3</td>\n",
       "      <td>07</td>\n",
       "      <td>[735, 736, 737, 738]</td>\n",
       "      <td>[0.04225352112676056, 0.09859154929577464, 0.6...</td>\n",
       "    </tr>\n",
       "    <tr>\n",
       "      <th>3</th>\n",
       "      <td>32613</td>\n",
       "      <td>4</td>\n",
       "      <td>07</td>\n",
       "      <td>[737, 738, 739, 740, 741]</td>\n",
       "      <td>[0.0007342143906020558, 0.27386196769456683, 0...</td>\n",
       "    </tr>\n",
       "    <tr>\n",
       "      <th>4</th>\n",
       "      <td>32614</td>\n",
       "      <td>5</td>\n",
       "      <td>07</td>\n",
       "      <td>[717]</td>\n",
       "      <td>[1.0]</td>\n",
       "    </tr>\n",
       "  </tbody>\n",
       "</table>\n",
       "</div>"
      ],
      "text/plain": [
       "   nhruID  reg_hruID reg                      cells  \\\n",
       "0   32610          1  07                 [721, 722]   \n",
       "1   32611          2  07  [737, 738, 739, 740, 741]   \n",
       "2   32612          3  07       [735, 736, 737, 738]   \n",
       "3   32613          4  07  [737, 738, 739, 740, 741]   \n",
       "4   32614          5  07                      [717]   \n",
       "\n",
       "                                            percents  \n",
       "0          [0.6408839779005525, 0.35911602209944754]  \n",
       "1  [0.1377341251713111, 0.40566468707172226, 0.30...  \n",
       "2  [0.04225352112676056, 0.09859154929577464, 0.6...  \n",
       "3  [0.0007342143906020558, 0.27386196769456683, 0...  \n",
       "4                                              [1.0]  "
      ]
     },
     "execution_count": 35,
     "metadata": {},
     "output_type": "execute_result"
    }
   ],
   "source": [
    "dat.head()"
   ]
  },
  {
   "cell_type": "code",
   "execution_count": 31,
   "metadata": {
    "collapsed": true
   },
   "outputs": [],
   "source": [
    "fl = './stage4_map_daily_20041220-20150107.nc'\n",
    "ds = Dataset(fl,'r')"
   ]
  },
  {
   "cell_type": "code",
   "execution_count": 38,
   "metadata": {},
   "outputs": [
    {
     "name": "stdout",
     "output_type": "stream",
     "text": [
      "Time Units: Hour since 2001-12-31T23:00:00Z\n"
     ]
    }
   ],
   "source": [
    "# compute the dates\n",
    "time = ds.variables['time']\n",
    "print('Time Units: %s'%time.units)\n",
    "timeoffset = time.units[-20:] # trip the string\n",
    "strt = pd.to_datetime(timeoffset) # convert string into datetime object\n",
    "time = np.array(ds.variables['time'])\n",
    "\n",
    "def compute_time(time,offset):\n",
    "    dt = datetime.timedelta(hours=time)\n",
    "    time = offset+dt\n",
    "    return str(time.date())\n",
    "\n",
    "times = np.vectorize(compute_time)(time,strt)"
   ]
  },
  {
   "cell_type": "code",
   "execution_count": 42,
   "metadata": {
    "collapsed": true
   },
   "outputs": [],
   "source": [
    "def year(index): return index.year\n",
    "def month(index): return index.month\n",
    "def day(index): return index.day"
   ]
  },
  {
   "cell_type": "code",
   "execution_count": 57,
   "metadata": {
    "collapsed": true
   },
   "outputs": [],
   "source": [
    "# prepair the output data frame\n",
    "out = pd.DataFrame()\n",
    "out['datetime'] = pd.DatetimeIndex(times)\n",
    "out.index = pd.DatetimeIndex(out.datetime)\n",
    "out['year'] = out.index.map(year)\n",
    "out['month'] = out.index.map(month)\n",
    "out['day'] = out.index.map(day)\n",
    "out['hour'] = 0\n",
    "out['minute'] = 0\n",
    "out['second'] = 0\n",
    "\n",
    "for hru in dat.reg_hruID: # create space for each HRU\n",
    "    out['hru_%s'%hru] = -9999\n",
    "    \n",
    "del out['datetime'] # clean up"
   ]
  },
  {
   "cell_type": "code",
   "execution_count": 63,
   "metadata": {
    "collapsed": true
   },
   "outputs": [],
   "source": [
    "m,k,l = ds.variables['Total_precipitation_surface_1_Hour_Accumulation'].shape # get the dimensions of the precip data"
   ]
  },
  {
   "cell_type": "code",
   "execution_count": 82,
   "metadata": {
    "collapsed": true
   },
   "outputs": [],
   "source": [
    "idx = np.arange(1,(m*k)+1)"
   ]
  },
  {
   "cell_type": "code",
   "execution_count": 83,
   "metadata": {},
   "outputs": [
    {
     "data": {
      "text/plain": [
       "3232389"
      ]
     },
     "execution_count": 83,
     "metadata": {},
     "output_type": "execute_result"
    }
   ],
   "source": [
    "idx.max()"
   ]
  },
  {
   "cell_type": "code",
   "execution_count": null,
   "metadata": {
    "collapsed": true
   },
   "outputs": [],
   "source": []
  },
  {
   "cell_type": "code",
   "execution_count": 61,
   "metadata": {},
   "outputs": [
    {
     "data": {
      "text/plain": [
       "3669"
      ]
     },
     "execution_count": 61,
     "metadata": {},
     "output_type": "execute_result"
    }
   ],
   "source": [
    "for i in range(m): # iterate through slices of the dataset\n",
    "    rast = np.array(ds.variables['Total_precipitation_surface_1_Hour_Accumulation'][i,:,:]) # pull a slice\n",
    "    rast.shape = (k*l)"
   ]
  },
  {
   "cell_type": "code",
   "execution_count": 62,
   "metadata": {},
   "outputs": [
    {
     "data": {
      "text/plain": [
       "3669"
      ]
     },
     "execution_count": 62,
     "metadata": {},
     "output_type": "execute_result"
    }
   ],
   "source": [
    "len(out)"
   ]
  },
  {
   "cell_type": "code",
   "execution_count": 48,
   "metadata": {},
   "outputs": [
    {
     "data": {
      "text/plain": [
       "8205"
      ]
     },
     "execution_count": 48,
     "metadata": {},
     "output_type": "execute_result"
    }
   ],
   "source": [
    "hru"
   ]
  },
  {
   "cell_type": "code",
   "execution_count": null,
   "metadata": {
    "collapsed": true
   },
   "outputs": [],
   "source": []
  }
 ],
 "metadata": {
  "kernelspec": {
   "display_name": "Python 3",
   "language": "python",
   "name": "python3"
  },
  "language_info": {
   "codemirror_mode": {
    "name": "ipython",
    "version": 3
   },
   "file_extension": ".py",
   "mimetype": "text/x-python",
   "name": "python",
   "nbconvert_exporter": "python",
   "pygments_lexer": "ipython3",
   "version": "3.6.2"
  }
 },
 "nbformat": 4,
 "nbformat_minor": 2
}
