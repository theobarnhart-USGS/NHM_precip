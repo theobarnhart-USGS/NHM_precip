{
 "cells": [
  {
   "cell_type": "markdown",
   "metadata": {},
   "source": [
    "### fix  huc12\n",
    "\n",
    "Script to fix the huc 12 shapefile that does not contain hru_id_nat numbers...\n",
    "\n",
    "Theodore Barnhart | tbarnhart@usgs.gov"
   ]
  },
  {
   "cell_type": "code",
   "execution_count": 4,
   "metadata": {},
   "outputs": [],
   "source": [
    "import geopandas as gpd\n",
    "import numpy as np"
   ]
  },
  {
   "cell_type": "code",
   "execution_count": 5,
   "metadata": {},
   "outputs": [],
   "source": [
    "fl = './data/nhrus/clean_AEA/nhru_11_clean.shp'\n",
    "tmp = gpd.read_file(fl)"
   ]
  },
  {
   "cell_type": "code",
   "execution_count": 6,
   "metadata": {},
   "outputs": [],
   "source": [
    "fl = './data/nhrus/clean_AEA/nhru_13_clean.shp'\n",
    "tmp2 = gpd.read_file(fl)"
   ]
  },
  {
   "cell_type": "code",
   "execution_count": 10,
   "metadata": {},
   "outputs": [],
   "source": [
    "fl = './data/nhrus/clean_AEA/nhru_12_clean.shp'\n",
    "hru12 = gpd.read_file(fl)"
   ]
  },
  {
   "cell_type": "code",
   "execution_count": 7,
   "metadata": {},
   "outputs": [
    {
     "data": {
      "text/html": [
       "<div>\n",
       "<style scoped>\n",
       "    .dataframe tbody tr th:only-of-type {\n",
       "        vertical-align: middle;\n",
       "    }\n",
       "\n",
       "    .dataframe tbody tr th {\n",
       "        vertical-align: top;\n",
       "    }\n",
       "\n",
       "    .dataframe thead th {\n",
       "        text-align: right;\n",
       "    }\n",
       "</style>\n",
       "<table border=\"1\" class=\"dataframe\">\n",
       "  <thead>\n",
       "    <tr style=\"text-align: right;\">\n",
       "      <th></th>\n",
       "      <th>POI_ID</th>\n",
       "      <th>hru_id_nat</th>\n",
       "      <th>hru_id_reg</th>\n",
       "      <th>region</th>\n",
       "      <th>geometry</th>\n",
       "    </tr>\n",
       "  </thead>\n",
       "  <tbody>\n",
       "    <tr>\n",
       "      <th>7368</th>\n",
       "      <td>682459</td>\n",
       "      <td>73251</td>\n",
       "      <td>7369</td>\n",
       "      <td>11</td>\n",
       "      <td>POLYGON ((101270.5879001409 -1078036.630578467...</td>\n",
       "    </tr>\n",
       "    <tr>\n",
       "      <th>7369</th>\n",
       "      <td>3142526</td>\n",
       "      <td>73252</td>\n",
       "      <td>7370</td>\n",
       "      <td>11</td>\n",
       "      <td>POLYGON ((44547.92986590238 -1051879.781821774...</td>\n",
       "    </tr>\n",
       "    <tr>\n",
       "      <th>7370</th>\n",
       "      <td>3142294</td>\n",
       "      <td>73253</td>\n",
       "      <td>7371</td>\n",
       "      <td>11</td>\n",
       "      <td>POLYGON ((29253.43733002225 -1059446.449222879...</td>\n",
       "    </tr>\n",
       "    <tr>\n",
       "      <th>7371</th>\n",
       "      <td>13755083</td>\n",
       "      <td>73254</td>\n",
       "      <td>7372</td>\n",
       "      <td>11</td>\n",
       "      <td>POLYGON ((23507.13072380353 -1054186.879168411...</td>\n",
       "    </tr>\n",
       "    <tr>\n",
       "      <th>7372</th>\n",
       "      <td>13755103</td>\n",
       "      <td>73255</td>\n",
       "      <td>7373</td>\n",
       "      <td>11</td>\n",
       "      <td>POLYGON ((24238.97268534436 -1057099.252124129...</td>\n",
       "    </tr>\n",
       "  </tbody>\n",
       "</table>\n",
       "</div>"
      ],
      "text/plain": [
       "        POI_ID  hru_id_nat  hru_id_reg region  \\\n",
       "7368    682459       73251        7369     11   \n",
       "7369   3142526       73252        7370     11   \n",
       "7370   3142294       73253        7371     11   \n",
       "7371  13755083       73254        7372     11   \n",
       "7372  13755103       73255        7373     11   \n",
       "\n",
       "                                               geometry  \n",
       "7368  POLYGON ((101270.5879001409 -1078036.630578467...  \n",
       "7369  POLYGON ((44547.92986590238 -1051879.781821774...  \n",
       "7370  POLYGON ((29253.43733002225 -1059446.449222879...  \n",
       "7371  POLYGON ((23507.13072380353 -1054186.879168411...  \n",
       "7372  POLYGON ((24238.97268534436 -1057099.252124129...  "
      ]
     },
     "execution_count": 7,
     "metadata": {},
     "output_type": "execute_result"
    }
   ],
   "source": [
    "tmp.tail()"
   ]
  },
  {
   "cell_type": "code",
   "execution_count": 8,
   "metadata": {},
   "outputs": [
    {
     "data": {
      "text/html": [
       "<div>\n",
       "<style scoped>\n",
       "    .dataframe tbody tr th:only-of-type {\n",
       "        vertical-align: middle;\n",
       "    }\n",
       "\n",
       "    .dataframe tbody tr th {\n",
       "        vertical-align: top;\n",
       "    }\n",
       "\n",
       "    .dataframe thead th {\n",
       "        text-align: right;\n",
       "    }\n",
       "</style>\n",
       "<table border=\"1\" class=\"dataframe\">\n",
       "  <thead>\n",
       "    <tr style=\"text-align: right;\">\n",
       "      <th></th>\n",
       "      <th>POI_ID</th>\n",
       "      <th>hru_id_nat</th>\n",
       "      <th>hru_id_reg</th>\n",
       "      <th>region</th>\n",
       "      <th>geometry</th>\n",
       "    </tr>\n",
       "  </thead>\n",
       "  <tbody>\n",
       "    <tr>\n",
       "      <th>0</th>\n",
       "      <td>291803</td>\n",
       "      <td>81071</td>\n",
       "      <td>1</td>\n",
       "      <td>13</td>\n",
       "      <td>POLYGON ((-288850.3248544431 -1761911.77348131...</td>\n",
       "    </tr>\n",
       "    <tr>\n",
       "      <th>1</th>\n",
       "      <td>287847</td>\n",
       "      <td>81072</td>\n",
       "      <td>2</td>\n",
       "      <td>13</td>\n",
       "      <td>POLYGON ((-353824.9581058751 -1747744.92074338...</td>\n",
       "    </tr>\n",
       "    <tr>\n",
       "      <th>2</th>\n",
       "      <td>291803</td>\n",
       "      <td>81073</td>\n",
       "      <td>3</td>\n",
       "      <td>13</td>\n",
       "      <td>POLYGON ((-315741.2836817848 -1735398.97710615...</td>\n",
       "    </tr>\n",
       "    <tr>\n",
       "      <th>3</th>\n",
       "      <td>291795</td>\n",
       "      <td>81074</td>\n",
       "      <td>4</td>\n",
       "      <td>13</td>\n",
       "      <td>POLYGON ((-301436.3706376876 -1732583.64275758...</td>\n",
       "    </tr>\n",
       "    <tr>\n",
       "      <th>4</th>\n",
       "      <td>291869</td>\n",
       "      <td>81075</td>\n",
       "      <td>5</td>\n",
       "      <td>13</td>\n",
       "      <td>POLYGON ((-323627.2907667265 -1740089.69010170...</td>\n",
       "    </tr>\n",
       "  </tbody>\n",
       "</table>\n",
       "</div>"
      ],
      "text/plain": [
       "   POI_ID  hru_id_nat  hru_id_reg region  \\\n",
       "0  291803       81071           1     13   \n",
       "1  287847       81072           2     13   \n",
       "2  291803       81073           3     13   \n",
       "3  291795       81074           4     13   \n",
       "4  291869       81075           5     13   \n",
       "\n",
       "                                            geometry  \n",
       "0  POLYGON ((-288850.3248544431 -1761911.77348131...  \n",
       "1  POLYGON ((-353824.9581058751 -1747744.92074338...  \n",
       "2  POLYGON ((-315741.2836817848 -1735398.97710615...  \n",
       "3  POLYGON ((-301436.3706376876 -1732583.64275758...  \n",
       "4  POLYGON ((-323627.2907667265 -1740089.69010170...  "
      ]
     },
     "execution_count": 8,
     "metadata": {},
     "output_type": "execute_result"
    }
   ],
   "source": [
    "tmp2.head()"
   ]
  },
  {
   "cell_type": "code",
   "execution_count": 14,
   "metadata": {},
   "outputs": [],
   "source": [
    "hru_id_nat = np.arange(73256,81071)"
   ]
  },
  {
   "cell_type": "code",
   "execution_count": 15,
   "metadata": {},
   "outputs": [
    {
     "data": {
      "text/plain": [
       "7815"
      ]
     },
     "execution_count": 15,
     "metadata": {},
     "output_type": "execute_result"
    }
   ],
   "source": [
    "len(hru12)"
   ]
  },
  {
   "cell_type": "code",
   "execution_count": 16,
   "metadata": {},
   "outputs": [
    {
     "data": {
      "text/plain": [
       "7815"
      ]
     },
     "execution_count": 16,
     "metadata": {},
     "output_type": "execute_result"
    }
   ],
   "source": [
    "len(hru_id_nat)"
   ]
  },
  {
   "cell_type": "code",
   "execution_count": 18,
   "metadata": {},
   "outputs": [],
   "source": [
    "hru12['hru_id_nat'] = hru_id_nat"
   ]
  },
  {
   "cell_type": "code",
   "execution_count": 19,
   "metadata": {},
   "outputs": [],
   "source": [
    "fl = './data/nhrus/clean_AEA/nhru_12_clean.shp'\n",
    "hru12.to_file(fl)"
   ]
  }
 ],
 "metadata": {
  "kernelspec": {
   "display_name": "Python 3",
   "language": "python",
   "name": "python3"
  },
  "language_info": {
   "codemirror_mode": {
    "name": "ipython",
    "version": 3
   },
   "file_extension": ".py",
   "mimetype": "text/x-python",
   "name": "python",
   "nbconvert_exporter": "python",
   "pygments_lexer": "ipython3",
   "version": "3.6.4"
  }
 },
 "nbformat": 4,
 "nbformat_minor": 2
}
