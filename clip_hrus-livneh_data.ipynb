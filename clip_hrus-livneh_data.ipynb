{
 "cells": [
  {
   "cell_type": "markdown",
   "metadata": {},
   "source": [
    "## Script to clip the index raster to each NHM HRU\n",
    "\n",
    "Theodore Barnhart | tbarnhart@usgs.gov"
   ]
  },
  {
   "cell_type": "code",
   "execution_count": 13,
   "metadata": {},
   "outputs": [],
   "source": [
    "import geopandas as gpd\n",
    "import subprocess\n",
    "import os\n",
    "import pandas as pd\n",
    "import numpy as np"
   ]
  },
  {
   "cell_type": "code",
   "execution_count": 2,
   "metadata": {},
   "outputs": [],
   "source": [
    "def make_outpath(df):\n",
    "    outpath = './data/nhrus/AEA_tiffs/livneh_HUC_%s_nhruID_%s.tiff'%(df.region,df.nhruID)\n",
    "    return outpath"
   ]
  },
  {
   "cell_type": "code",
   "execution_count": 3,
   "metadata": {},
   "outputs": [],
   "source": [
    "def clip_raster(df):\n",
    "    \n",
    "    cutline = df.cutline\n",
    "    feature = df.nhruID\n",
    "    inpath = df.inpath\n",
    "    outpath = df.outpath\n",
    "    \n",
    "    cmd = \"gdalwarp -cutline %s -cwhere hru_id_nat=%s -crop_to_cutline -overwrite %s %s\"%(cutline,\n",
    "        feature,inpath,outpath)\n",
    "    \n",
    "    subprocess.call(cmd,shell=True)\n",
    "    \n",
    "    return None"
   ]
  },
  {
   "cell_type": "code",
   "execution_count": 41,
   "metadata": {},
   "outputs": [],
   "source": [
    "def runClip(fl,inpath='tmp'):\n",
    "    reg = fl.split('_')[-2] # extract the region\n",
    "    \n",
    "    tmp = gpd.read_file(fl)\n",
    "    \n",
    "    dat = pd.DataFrame({'nhruID':tmp.hru_id_nat.unique()}) #dataframe of the unique NHM HRU identifiers\n",
    "    del tmp # close tmp file\n",
    "    \n",
    "    dat['cutline'] = fl # insert the shapefile as the cutline\n",
    "    dat['region'] = reg\n",
    "    dat['inpath'] = inpath # specified\n",
    "    dat['outpath'] = dat.apply(make_outpath,axis=1)\n",
    "    \n",
    "    dat.apply(clip_raster,axis=1) # run the clip code\n",
    "    print('HUC%s Done!'%reg)"
   ]
  },
  {
   "cell_type": "code",
   "execution_count": 5,
   "metadata": {},
   "outputs": [],
   "source": [
    "def is_file(df):\n",
    "    hru = df.nhruID\n",
    "    reg = df.region\n",
    "    return os.path.isfile('./data/nhrus/AEA_tiffs/livneh_HUC_%s_nhruID_%s.tiff'%(reg,hru))"
   ]
  },
  {
   "cell_type": "code",
   "execution_count": 6,
   "metadata": {},
   "outputs": [],
   "source": [
    "def parse_out(out):\n",
    "    out = str(out.stdout)\n",
    "    x = int(out.split()[-1].split('L')[0])\n",
    "    y = int(out.split()[-3].split('P')[0])\n",
    "    return x,y"
   ]
  },
  {
   "cell_type": "code",
   "execution_count": 7,
   "metadata": {},
   "outputs": [],
   "source": [
    "def clip_raster_output(df):\n",
    "    \n",
    "    cutline = df.cutline\n",
    "    feature = df.nhruID\n",
    "    inpath = df.inpath\n",
    "    outpath = df.outpath\n",
    "    \n",
    "    cmd = \"gdalwarp -cutline %s -cwhere hru_id_nat=%s -crop_to_cutline -overwrite %s %s\"%(cutline,\n",
    "        feature,inpath,outpath)\n",
    "    \n",
    "    out = subprocess.run(cmd,shell=True,stdout=subprocess.PIPE)\n",
    "    \n",
    "    return out"
   ]
  },
  {
   "cell_type": "code",
   "execution_count": 8,
   "metadata": {},
   "outputs": [],
   "source": [
    "def check(fl,inpath='tmp'):\n",
    "    '''Figure out which HRUS are missing'''\n",
    "    reg = fl.split('_')[-2] # extract the region\n",
    "    tmp = gpd.read_file(fl)\n",
    "    dat = pd.DataFrame({'nhruID':tmp.hru_id_nat.unique()}) #dataframe of the unique NHM HRU identifiers\n",
    "    del tmp # close tmp file\n",
    "    \n",
    "    dat['cutline'] = fl # insert the shapefile as the cutline\n",
    "    dat['region'] = reg\n",
    "    dat['inpath'] = inpath # specified\n",
    "    dat['outpath'] = dat.apply(make_outpath,axis=1)\n",
    "    dat['region'] = reg # insert the region\n",
    "    dat['isfile'] = dat.apply(is_file,axis=1)\n",
    "    \n",
    "    dat2 = dat.loc[dat.isfile==False].copy() # select only the missing files\n",
    "    \n",
    "    if len(dat2) > 0:\n",
    "        dat2['out'] = dat2.apply(clip_raster_output,axis=1) # run the clip routine again, but save the output\n",
    "        res = dat2.out.map(parse_out) # parse the output into the raster size trying to be created\n",
    "        x,y = zip(*res) # unpack the results and put into the dataframe \n",
    "        dat2['cols'] = x\n",
    "        dat2['rows'] = y\n",
    "        dat2['cells'] = dat2.rows*dat2.cols\n",
    "    \n",
    "        if dat2.cells.sum()>0:\n",
    "            print('non-zero raster!')\n",
    "    \n",
    "        return dat2\n",
    "    \n",
    "    elif len(dat) - dat.isfile.sum() == 0:\n",
    "        print('%s Complete!'%reg)"
   ]
  },
  {
   "cell_type": "code",
   "execution_count": 29,
   "metadata": {},
   "outputs": [],
   "source": [
    "#newRegions = ['01','02','03','04','05','06','13','14','15','16','17','18','20','21']\n",
    "newRegions = ['12','13','14','15','16','17','18']"
   ]
  },
  {
   "cell_type": "code",
   "execution_count": 30,
   "metadata": {},
   "outputs": [],
   "source": [
    "# make new files\n",
    "files = []\n",
    "for reg in newRegions:\n",
    "    files.append('./data/nhrus/clean_AEA/nhru_%s_clean.shp'%reg)"
   ]
  },
  {
   "cell_type": "code",
   "execution_count": 31,
   "metadata": {},
   "outputs": [
    {
     "data": {
      "text/plain": [
       "['./data/nhrus/clean_AEA/nhru_12_clean.shp',\n",
       " './data/nhrus/clean_AEA/nhru_13_clean.shp',\n",
       " './data/nhrus/clean_AEA/nhru_14_clean.shp',\n",
       " './data/nhrus/clean_AEA/nhru_15_clean.shp',\n",
       " './data/nhrus/clean_AEA/nhru_16_clean.shp',\n",
       " './data/nhrus/clean_AEA/nhru_17_clean.shp',\n",
       " './data/nhrus/clean_AEA/nhru_18_clean.shp']"
      ]
     },
     "execution_count": 31,
     "metadata": {},
     "output_type": "execute_result"
    }
   ],
   "source": [
    "files"
   ]
  },
  {
   "cell_type": "code",
   "execution_count": 32,
   "metadata": {},
   "outputs": [],
   "source": [
    "files = pd.DataFrame({'file':files})"
   ]
  },
  {
   "cell_type": "code",
   "execution_count": 33,
   "metadata": {},
   "outputs": [
    {
     "data": {
      "text/html": [
       "<div>\n",
       "<style scoped>\n",
       "    .dataframe tbody tr th:only-of-type {\n",
       "        vertical-align: middle;\n",
       "    }\n",
       "\n",
       "    .dataframe tbody tr th {\n",
       "        vertical-align: top;\n",
       "    }\n",
       "\n",
       "    .dataframe thead th {\n",
       "        text-align: right;\n",
       "    }\n",
       "</style>\n",
       "<table border=\"1\" class=\"dataframe\">\n",
       "  <thead>\n",
       "    <tr style=\"text-align: right;\">\n",
       "      <th></th>\n",
       "      <th>file</th>\n",
       "    </tr>\n",
       "  </thead>\n",
       "  <tbody>\n",
       "    <tr>\n",
       "      <th>0</th>\n",
       "      <td>./data/nhrus/clean_AEA/nhru_12_clean.shp</td>\n",
       "    </tr>\n",
       "    <tr>\n",
       "      <th>1</th>\n",
       "      <td>./data/nhrus/clean_AEA/nhru_13_clean.shp</td>\n",
       "    </tr>\n",
       "    <tr>\n",
       "      <th>2</th>\n",
       "      <td>./data/nhrus/clean_AEA/nhru_14_clean.shp</td>\n",
       "    </tr>\n",
       "    <tr>\n",
       "      <th>3</th>\n",
       "      <td>./data/nhrus/clean_AEA/nhru_15_clean.shp</td>\n",
       "    </tr>\n",
       "    <tr>\n",
       "      <th>4</th>\n",
       "      <td>./data/nhrus/clean_AEA/nhru_16_clean.shp</td>\n",
       "    </tr>\n",
       "  </tbody>\n",
       "</table>\n",
       "</div>"
      ],
      "text/plain": [
       "                                       file\n",
       "0  ./data/nhrus/clean_AEA/nhru_12_clean.shp\n",
       "1  ./data/nhrus/clean_AEA/nhru_13_clean.shp\n",
       "2  ./data/nhrus/clean_AEA/nhru_14_clean.shp\n",
       "3  ./data/nhrus/clean_AEA/nhru_15_clean.shp\n",
       "4  ./data/nhrus/clean_AEA/nhru_16_clean.shp"
      ]
     },
     "execution_count": 33,
     "metadata": {},
     "output_type": "execute_result"
    }
   ],
   "source": [
    "files.head()"
   ]
  },
  {
   "cell_type": "code",
   "execution_count": null,
   "metadata": {},
   "outputs": [],
   "source": [
    "files.file.apply(runClip,inpath='./data/livneh_idx_sm.tiff')"
   ]
  },
  {
   "cell_type": "code",
   "execution_count": 36,
   "metadata": {},
   "outputs": [],
   "source": [
    "tmp = gpd.read_file(files.file[0])"
   ]
  },
  {
   "cell_type": "code",
   "execution_count": 38,
   "metadata": {},
   "outputs": [
    {
     "data": {
      "text/html": [
       "<div>\n",
       "<style scoped>\n",
       "    .dataframe tbody tr th:only-of-type {\n",
       "        vertical-align: middle;\n",
       "    }\n",
       "\n",
       "    .dataframe tbody tr th {\n",
       "        vertical-align: top;\n",
       "    }\n",
       "\n",
       "    .dataframe thead th {\n",
       "        text-align: right;\n",
       "    }\n",
       "</style>\n",
       "<table border=\"1\" class=\"dataframe\">\n",
       "  <thead>\n",
       "    <tr style=\"text-align: right;\">\n",
       "      <th></th>\n",
       "      <th>OBJECTID</th>\n",
       "      <th>POI_ID</th>\n",
       "      <th>hru_id_reg</th>\n",
       "      <th>hru_segmen</th>\n",
       "      <th>hru_segm_1</th>\n",
       "      <th>hru_segm_2</th>\n",
       "      <th>hru_x</th>\n",
       "      <th>hru_y</th>\n",
       "      <th>hru_lat</th>\n",
       "      <th>hru_area</th>\n",
       "      <th>region</th>\n",
       "      <th>Shape_Leng</th>\n",
       "      <th>Shape_Area</th>\n",
       "      <th>geometry</th>\n",
       "    </tr>\n",
       "  </thead>\n",
       "  <tbody>\n",
       "    <tr>\n",
       "      <th>0</th>\n",
       "      <td>1</td>\n",
       "      <td>1576420</td>\n",
       "      <td>1</td>\n",
       "      <td>1038</td>\n",
       "      <td>1038</td>\n",
       "      <td></td>\n",
       "      <td>62821.854643</td>\n",
       "      <td>649887.988630</td>\n",
       "      <td>28.919997</td>\n",
       "      <td>2089.614517</td>\n",
       "      <td>12</td>\n",
       "      <td>24984.695728</td>\n",
       "      <td>8.456370e+06</td>\n",
       "      <td>POLYGON ((453526.4797736619 -1772745.158867018...</td>\n",
       "    </tr>\n",
       "    <tr>\n",
       "      <th>1</th>\n",
       "      <td>2</td>\n",
       "      <td>1576420</td>\n",
       "      <td>2</td>\n",
       "      <td>1038</td>\n",
       "      <td>1038</td>\n",
       "      <td></td>\n",
       "      <td>64297.004513</td>\n",
       "      <td>649641.869018</td>\n",
       "      <td>28.917682</td>\n",
       "      <td>1295.495853</td>\n",
       "      <td>12</td>\n",
       "      <td>24497.925574</td>\n",
       "      <td>5.242686e+06</td>\n",
       "      <td>POLYGON ((460726.9014111806 -1767496.801150818...</td>\n",
       "    </tr>\n",
       "    <tr>\n",
       "      <th>2</th>\n",
       "      <td>3</td>\n",
       "      <td>1576362</td>\n",
       "      <td>3</td>\n",
       "      <td>1037</td>\n",
       "      <td>1037</td>\n",
       "      <td></td>\n",
       "      <td>70087.490888</td>\n",
       "      <td>654763.999861</td>\n",
       "      <td>28.963574</td>\n",
       "      <td>849.963580</td>\n",
       "      <td>12</td>\n",
       "      <td>15252.318977</td>\n",
       "      <td>3.439681e+06</td>\n",
       "      <td>POLYGON ((464186.3697744372 -1764735.323414906...</td>\n",
       "    </tr>\n",
       "    <tr>\n",
       "      <th>3</th>\n",
       "      <td>4</td>\n",
       "      <td>1576348</td>\n",
       "      <td>4</td>\n",
       "      <td>0</td>\n",
       "      <td>0</td>\n",
       "      <td></td>\n",
       "      <td>63959.798297</td>\n",
       "      <td>648495.038764</td>\n",
       "      <td>28.907342</td>\n",
       "      <td>2917.601485</td>\n",
       "      <td>12</td>\n",
       "      <td>60645.018581</td>\n",
       "      <td>1.180711e+07</td>\n",
       "      <td>POLYGON ((467299.732520635 -1761601.499437819,...</td>\n",
       "    </tr>\n",
       "    <tr>\n",
       "      <th>4</th>\n",
       "      <td>5</td>\n",
       "      <td>1576436</td>\n",
       "      <td>5</td>\n",
       "      <td>1039</td>\n",
       "      <td>1039</td>\n",
       "      <td></td>\n",
       "      <td>71313.778846</td>\n",
       "      <td>656002.108320</td>\n",
       "      <td>28.974674</td>\n",
       "      <td>894.723270</td>\n",
       "      <td>12</td>\n",
       "      <td>14914.280679</td>\n",
       "      <td>3.620817e+06</td>\n",
       "      <td>POLYGON ((467437.8521657833 -1761654.857633956...</td>\n",
       "    </tr>\n",
       "  </tbody>\n",
       "</table>\n",
       "</div>"
      ],
      "text/plain": [
       "   OBJECTID   POI_ID  hru_id_reg  hru_segmen  hru_segm_1 hru_segm_2  \\\n",
       "0         1  1576420           1        1038        1038              \n",
       "1         2  1576420           2        1038        1038              \n",
       "2         3  1576362           3        1037        1037              \n",
       "3         4  1576348           4           0           0              \n",
       "4         5  1576436           5        1039        1039              \n",
       "\n",
       "          hru_x          hru_y    hru_lat     hru_area region    Shape_Leng  \\\n",
       "0  62821.854643  649887.988630  28.919997  2089.614517     12  24984.695728   \n",
       "1  64297.004513  649641.869018  28.917682  1295.495853     12  24497.925574   \n",
       "2  70087.490888  654763.999861  28.963574   849.963580     12  15252.318977   \n",
       "3  63959.798297  648495.038764  28.907342  2917.601485     12  60645.018581   \n",
       "4  71313.778846  656002.108320  28.974674   894.723270     12  14914.280679   \n",
       "\n",
       "     Shape_Area                                           geometry  \n",
       "0  8.456370e+06  POLYGON ((453526.4797736619 -1772745.158867018...  \n",
       "1  5.242686e+06  POLYGON ((460726.9014111806 -1767496.801150818...  \n",
       "2  3.439681e+06  POLYGON ((464186.3697744372 -1764735.323414906...  \n",
       "3  1.180711e+07  POLYGON ((467299.732520635 -1761601.499437819,...  \n",
       "4  3.620817e+06  POLYGON ((467437.8521657833 -1761654.857633956...  "
      ]
     },
     "execution_count": 38,
     "metadata": {},
     "output_type": "execute_result"
    }
   ],
   "source": [
    "tmp.head()"
   ]
  },
  {
   "cell_type": "code",
   "execution_count": 19,
   "metadata": {},
   "outputs": [
    {
     "name": "stdout",
     "output_type": "stream",
     "text": [
      "01 Complete!\n",
      "02 Complete!\n",
      "03 Complete!\n",
      "05 Complete!\n",
      "06 Complete!\n",
      "13 Complete!\n",
      "14 Complete!\n",
      "15 Complete!\n",
      "16 Complete!\n",
      "17 Complete!\n",
      "18 Complete!\n",
      "20 Complete!\n",
      "21 Complete!\n"
     ]
    }
   ],
   "source": [
    "missing = files.file.apply(check,inpath='./data/hrap_grid_AEA_idx_sm.tiff')"
   ]
  },
  {
   "cell_type": "code",
   "execution_count": 25,
   "metadata": {},
   "outputs": [
    {
     "data": {
      "text/plain": [
       "0                                                  None\n",
       "1                                                  None\n",
       "2                                                  None\n",
       "3           nhruID                                  ...\n",
       "4                                                  None\n",
       "5                                                  None\n",
       "6                                                  None\n",
       "7                                                  None\n",
       "8                                                  None\n",
       "9                                                  None\n",
       "10                                                 None\n",
       "11                                                 None\n",
       "12                                                 None\n",
       "13                                                 None\n",
       "Name: file, dtype: object"
      ]
     },
     "execution_count": 25,
     "metadata": {},
     "output_type": "execute_result"
    }
   ],
   "source": [
    "missing"
   ]
  },
  {
   "cell_type": "code",
   "execution_count": 24,
   "metadata": {},
   "outputs": [
    {
     "data": {
      "text/html": [
       "<div>\n",
       "<style>\n",
       "    .dataframe thead tr:only-child th {\n",
       "        text-align: right;\n",
       "    }\n",
       "\n",
       "    .dataframe thead th {\n",
       "        text-align: left;\n",
       "    }\n",
       "\n",
       "    .dataframe tbody tr th {\n",
       "        vertical-align: top;\n",
       "    }\n",
       "</style>\n",
       "<table border=\"1\" class=\"dataframe\">\n",
       "  <thead>\n",
       "    <tr style=\"text-align: right;\">\n",
       "      <th></th>\n",
       "      <th>nhruID</th>\n",
       "      <th>cutline</th>\n",
       "      <th>region</th>\n",
       "      <th>inpath</th>\n",
       "      <th>outpath</th>\n",
       "      <th>isfile</th>\n",
       "      <th>out</th>\n",
       "      <th>cols</th>\n",
       "      <th>rows</th>\n",
       "      <th>cells</th>\n",
       "    </tr>\n",
       "  </thead>\n",
       "  <tbody>\n",
       "    <tr>\n",
       "      <th>116</th>\n",
       "      <td>17305</td>\n",
       "      <td>./data/nhrus/clean_AEA/nhru_04_clean.shp</td>\n",
       "      <td>04</td>\n",
       "      <td>./data/hrap_grid_AEA_idx_sm.tiff</td>\n",
       "      <td>./data/nhrus/AEA_tiffs/HUC_04_nhruID_17305.tiff</td>\n",
       "      <td>False</td>\n",
       "      <td>CompletedProcess(args='gdalwarp -cutline ./dat...</td>\n",
       "      <td>0</td>\n",
       "      <td>1</td>\n",
       "      <td>0</td>\n",
       "    </tr>\n",
       "    <tr>\n",
       "      <th>3746</th>\n",
       "      <td>20935</td>\n",
       "      <td>./data/nhrus/clean_AEA/nhru_04_clean.shp</td>\n",
       "      <td>04</td>\n",
       "      <td>./data/hrap_grid_AEA_idx_sm.tiff</td>\n",
       "      <td>./data/nhrus/AEA_tiffs/HUC_04_nhruID_20935.tiff</td>\n",
       "      <td>False</td>\n",
       "      <td>CompletedProcess(args='gdalwarp -cutline ./dat...</td>\n",
       "      <td>0</td>\n",
       "      <td>0</td>\n",
       "      <td>0</td>\n",
       "    </tr>\n",
       "    <tr>\n",
       "      <th>3835</th>\n",
       "      <td>21024</td>\n",
       "      <td>./data/nhrus/clean_AEA/nhru_04_clean.shp</td>\n",
       "      <td>04</td>\n",
       "      <td>./data/hrap_grid_AEA_idx_sm.tiff</td>\n",
       "      <td>./data/nhrus/AEA_tiffs/HUC_04_nhruID_21024.tiff</td>\n",
       "      <td>False</td>\n",
       "      <td>CompletedProcess(args='gdalwarp -cutline ./dat...</td>\n",
       "      <td>1</td>\n",
       "      <td>0</td>\n",
       "      <td>0</td>\n",
       "    </tr>\n",
       "    <tr>\n",
       "      <th>4538</th>\n",
       "      <td>21727</td>\n",
       "      <td>./data/nhrus/clean_AEA/nhru_04_clean.shp</td>\n",
       "      <td>04</td>\n",
       "      <td>./data/hrap_grid_AEA_idx_sm.tiff</td>\n",
       "      <td>./data/nhrus/AEA_tiffs/HUC_04_nhruID_21727.tiff</td>\n",
       "      <td>False</td>\n",
       "      <td>CompletedProcess(args='gdalwarp -cutline ./dat...</td>\n",
       "      <td>0</td>\n",
       "      <td>0</td>\n",
       "      <td>0</td>\n",
       "    </tr>\n",
       "    <tr>\n",
       "      <th>5067</th>\n",
       "      <td>22256</td>\n",
       "      <td>./data/nhrus/clean_AEA/nhru_04_clean.shp</td>\n",
       "      <td>04</td>\n",
       "      <td>./data/hrap_grid_AEA_idx_sm.tiff</td>\n",
       "      <td>./data/nhrus/AEA_tiffs/HUC_04_nhruID_22256.tiff</td>\n",
       "      <td>False</td>\n",
       "      <td>CompletedProcess(args='gdalwarp -cutline ./dat...</td>\n",
       "      <td>1</td>\n",
       "      <td>0</td>\n",
       "      <td>0</td>\n",
       "    </tr>\n",
       "  </tbody>\n",
       "</table>\n",
       "</div>"
      ],
      "text/plain": [
       "      nhruID                                   cutline region  \\\n",
       "116    17305  ./data/nhrus/clean_AEA/nhru_04_clean.shp     04   \n",
       "3746   20935  ./data/nhrus/clean_AEA/nhru_04_clean.shp     04   \n",
       "3835   21024  ./data/nhrus/clean_AEA/nhru_04_clean.shp     04   \n",
       "4538   21727  ./data/nhrus/clean_AEA/nhru_04_clean.shp     04   \n",
       "5067   22256  ./data/nhrus/clean_AEA/nhru_04_clean.shp     04   \n",
       "\n",
       "                                inpath  \\\n",
       "116   ./data/hrap_grid_AEA_idx_sm.tiff   \n",
       "3746  ./data/hrap_grid_AEA_idx_sm.tiff   \n",
       "3835  ./data/hrap_grid_AEA_idx_sm.tiff   \n",
       "4538  ./data/hrap_grid_AEA_idx_sm.tiff   \n",
       "5067  ./data/hrap_grid_AEA_idx_sm.tiff   \n",
       "\n",
       "                                              outpath  isfile  \\\n",
       "116   ./data/nhrus/AEA_tiffs/HUC_04_nhruID_17305.tiff   False   \n",
       "3746  ./data/nhrus/AEA_tiffs/HUC_04_nhruID_20935.tiff   False   \n",
       "3835  ./data/nhrus/AEA_tiffs/HUC_04_nhruID_21024.tiff   False   \n",
       "4538  ./data/nhrus/AEA_tiffs/HUC_04_nhruID_21727.tiff   False   \n",
       "5067  ./data/nhrus/AEA_tiffs/HUC_04_nhruID_22256.tiff   False   \n",
       "\n",
       "                                                    out  cols  rows  cells  \n",
       "116   CompletedProcess(args='gdalwarp -cutline ./dat...     0     1      0  \n",
       "3746  CompletedProcess(args='gdalwarp -cutline ./dat...     0     0      0  \n",
       "3835  CompletedProcess(args='gdalwarp -cutline ./dat...     1     0      0  \n",
       "4538  CompletedProcess(args='gdalwarp -cutline ./dat...     0     0      0  \n",
       "5067  CompletedProcess(args='gdalwarp -cutline ./dat...     1     0      0  "
      ]
     },
     "execution_count": 24,
     "metadata": {},
     "output_type": "execute_result"
    }
   ],
   "source": [
    "missing[3]"
   ]
  },
  {
   "cell_type": "markdown",
   "metadata": {},
   "source": [
    "## Code the few remaining cells by hand"
   ]
  },
  {
   "cell_type": "code",
   "execution_count": 26,
   "metadata": {
    "collapsed": true
   },
   "outputs": [],
   "source": [
    "reg04_NHRU = [17305,20935,21024,21727,22256]\n",
    "reg04_cells = [[296823],[354989],[356077],[306739],[260807]]\n",
    "reg04_percents = [[1],[1],[1],[1],[1]]"
   ]
  },
  {
   "cell_type": "code",
   "execution_count": 27,
   "metadata": {
    "collapsed": true
   },
   "outputs": [],
   "source": [
    "reg08 = pd.DataFrame()\n",
    "reg08['nhruID'] = reg04_NHRU\n",
    "reg08['reg_hruID'] = [117,3747,3836,4539,5068]\n",
    "reg08['cells'] = reg04_cells\n",
    "reg08['percents'] = reg04_percents\n",
    "reg08['reg'] = '04'"
   ]
  },
  {
   "cell_type": "code",
   "execution_count": 28,
   "metadata": {
    "collapsed": true
   },
   "outputs": [],
   "source": [
    "reg08.to_pickle('./data/reg04_unclipped.pcl')"
   ]
  },
  {
   "cell_type": "code",
   "execution_count": 15,
   "metadata": {},
   "outputs": [
    {
     "data": {
      "text/html": [
       "<div>\n",
       "<style>\n",
       "    .dataframe thead tr:only-child th {\n",
       "        text-align: right;\n",
       "    }\n",
       "\n",
       "    .dataframe thead th {\n",
       "        text-align: left;\n",
       "    }\n",
       "\n",
       "    .dataframe tbody tr th {\n",
       "        vertical-align: top;\n",
       "    }\n",
       "</style>\n",
       "<table border=\"1\" class=\"dataframe\">\n",
       "  <thead>\n",
       "    <tr style=\"text-align: right;\">\n",
       "      <th></th>\n",
       "      <th>nhruID</th>\n",
       "      <th>cutline</th>\n",
       "      <th>region</th>\n",
       "      <th>inpath</th>\n",
       "      <th>outpath</th>\n",
       "      <th>isfile</th>\n",
       "      <th>out</th>\n",
       "      <th>cols</th>\n",
       "      <th>rows</th>\n",
       "      <th>cells</th>\n",
       "    </tr>\n",
       "  </thead>\n",
       "  <tbody>\n",
       "    <tr>\n",
       "      <th>2</th>\n",
       "      <td>40817</td>\n",
       "      <td>./data/nhrus/clean_AEA/nhru_08_clean.shp</td>\n",
       "      <td>08</td>\n",
       "      <td>./data/hrap_grid_AEA_idx_sm.tiff</td>\n",
       "      <td>./data/nhrus/AEA_tiffs/HUC_08_nhruID_40817.tiff</td>\n",
       "      <td>False</td>\n",
       "      <td>CompletedProcess(args='gdalwarp -cutline ./dat...</td>\n",
       "      <td>1</td>\n",
       "      <td>0</td>\n",
       "      <td>0</td>\n",
       "    </tr>\n",
       "    <tr>\n",
       "      <th>95</th>\n",
       "      <td>40910</td>\n",
       "      <td>./data/nhrus/clean_AEA/nhru_08_clean.shp</td>\n",
       "      <td>08</td>\n",
       "      <td>./data/hrap_grid_AEA_idx_sm.tiff</td>\n",
       "      <td>./data/nhrus/AEA_tiffs/HUC_08_nhruID_40910.tiff</td>\n",
       "      <td>False</td>\n",
       "      <td>CompletedProcess(args='gdalwarp -cutline ./dat...</td>\n",
       "      <td>0</td>\n",
       "      <td>1</td>\n",
       "      <td>0</td>\n",
       "    </tr>\n",
       "    <tr>\n",
       "      <th>111</th>\n",
       "      <td>40926</td>\n",
       "      <td>./data/nhrus/clean_AEA/nhru_08_clean.shp</td>\n",
       "      <td>08</td>\n",
       "      <td>./data/hrap_grid_AEA_idx_sm.tiff</td>\n",
       "      <td>./data/nhrus/AEA_tiffs/HUC_08_nhruID_40926.tiff</td>\n",
       "      <td>False</td>\n",
       "      <td>CompletedProcess(args='gdalwarp -cutline ./dat...</td>\n",
       "      <td>0</td>\n",
       "      <td>0</td>\n",
       "      <td>0</td>\n",
       "    </tr>\n",
       "  </tbody>\n",
       "</table>\n",
       "</div>"
      ],
      "text/plain": [
       "     nhruID                                   cutline region  \\\n",
       "2     40817  ./data/nhrus/clean_AEA/nhru_08_clean.shp     08   \n",
       "95    40910  ./data/nhrus/clean_AEA/nhru_08_clean.shp     08   \n",
       "111   40926  ./data/nhrus/clean_AEA/nhru_08_clean.shp     08   \n",
       "\n",
       "                               inpath  \\\n",
       "2    ./data/hrap_grid_AEA_idx_sm.tiff   \n",
       "95   ./data/hrap_grid_AEA_idx_sm.tiff   \n",
       "111  ./data/hrap_grid_AEA_idx_sm.tiff   \n",
       "\n",
       "                                             outpath  isfile  \\\n",
       "2    ./data/nhrus/AEA_tiffs/HUC_08_nhruID_40817.tiff   False   \n",
       "95   ./data/nhrus/AEA_tiffs/HUC_08_nhruID_40910.tiff   False   \n",
       "111  ./data/nhrus/AEA_tiffs/HUC_08_nhruID_40926.tiff   False   \n",
       "\n",
       "                                                   out  cols  rows  cells  \n",
       "2    CompletedProcess(args='gdalwarp -cutline ./dat...     1     0      0  \n",
       "95   CompletedProcess(args='gdalwarp -cutline ./dat...     0     1      0  \n",
       "111  CompletedProcess(args='gdalwarp -cutline ./dat...     0     0      0  "
      ]
     },
     "execution_count": 15,
     "metadata": {},
     "output_type": "execute_result"
    }
   ],
   "source": [
    "missing[1]"
   ]
  },
  {
   "cell_type": "code",
   "execution_count": 23,
   "metadata": {
    "collapsed": true
   },
   "outputs": [],
   "source": [
    "reg08_NHRU = [40817,40910,40926,40826,40827,40891,40908,41064]\n",
    "reg08_cells = [[788822],[780963],[772030],[778776],[778776],[776509],[780963],[760827]]\n",
    "reg08_percents = [[1],[1],[1],[1],[1],[1],[1],[1]]"
   ]
  },
  {
   "cell_type": "code",
   "execution_count": 25,
   "metadata": {
    "collapsed": true
   },
   "outputs": [],
   "source": [
    "reg08 = pd.DataFrame()\n",
    "reg08['nhruID'] = reg08_NHRU\n",
    "reg08['reg_hruID'] = [3,96,112,12,13,77,94,250]\n",
    "reg08['cells'] = reg08_cells\n",
    "reg08['percents'] = reg08_percents\n",
    "reg08['reg'] = '08'"
   ]
  },
  {
   "cell_type": "code",
   "execution_count": 26,
   "metadata": {
    "collapsed": true
   },
   "outputs": [],
   "source": [
    "reg08.to_pickle('./data/reg08_unclipped.pcl')"
   ]
  },
  {
   "cell_type": "code",
   "execution_count": 27,
   "metadata": {},
   "outputs": [
    {
     "data": {
      "text/html": [
       "<div>\n",
       "<style>\n",
       "    .dataframe thead tr:only-child th {\n",
       "        text-align: right;\n",
       "    }\n",
       "\n",
       "    .dataframe thead th {\n",
       "        text-align: left;\n",
       "    }\n",
       "\n",
       "    .dataframe tbody tr th {\n",
       "        vertical-align: top;\n",
       "    }\n",
       "</style>\n",
       "<table border=\"1\" class=\"dataframe\">\n",
       "  <thead>\n",
       "    <tr style=\"text-align: right;\">\n",
       "      <th></th>\n",
       "      <th>nhruID</th>\n",
       "      <th>cutline</th>\n",
       "      <th>region</th>\n",
       "      <th>inpath</th>\n",
       "      <th>outpath</th>\n",
       "      <th>isfile</th>\n",
       "      <th>out</th>\n",
       "      <th>cols</th>\n",
       "      <th>rows</th>\n",
       "      <th>cells</th>\n",
       "    </tr>\n",
       "  </thead>\n",
       "  <tbody>\n",
       "    <tr>\n",
       "      <th>8081</th>\n",
       "      <td>63665</td>\n",
       "      <td>./data/nhrus/clean_AEA/nhru_10U_clean.shp</td>\n",
       "      <td>10U</td>\n",
       "      <td>./data/hrap_grid_AEA_idx_sm.tiff</td>\n",
       "      <td>./data/nhrus/AEA_tiffs/HUC_10U_nhruID_63665.tiff</td>\n",
       "      <td>False</td>\n",
       "      <td>CompletedProcess(args='gdalwarp -cutline ./dat...</td>\n",
       "      <td>0</td>\n",
       "      <td>1</td>\n",
       "      <td>0</td>\n",
       "    </tr>\n",
       "    <tr>\n",
       "      <th>8097</th>\n",
       "      <td>63681</td>\n",
       "      <td>./data/nhrus/clean_AEA/nhru_10U_clean.shp</td>\n",
       "      <td>10U</td>\n",
       "      <td>./data/hrap_grid_AEA_idx_sm.tiff</td>\n",
       "      <td>./data/nhrus/AEA_tiffs/HUC_10U_nhruID_63681.tiff</td>\n",
       "      <td>False</td>\n",
       "      <td>CompletedProcess(args='gdalwarp -cutline ./dat...</td>\n",
       "      <td>0</td>\n",
       "      <td>1</td>\n",
       "      <td>0</td>\n",
       "    </tr>\n",
       "  </tbody>\n",
       "</table>\n",
       "</div>"
      ],
      "text/plain": [
       "      nhruID                                    cutline region  \\\n",
       "8081   63665  ./data/nhrus/clean_AEA/nhru_10U_clean.shp    10U   \n",
       "8097   63681  ./data/nhrus/clean_AEA/nhru_10U_clean.shp    10U   \n",
       "\n",
       "                                inpath  \\\n",
       "8081  ./data/hrap_grid_AEA_idx_sm.tiff   \n",
       "8097  ./data/hrap_grid_AEA_idx_sm.tiff   \n",
       "\n",
       "                                               outpath  isfile  \\\n",
       "8081  ./data/nhrus/AEA_tiffs/HUC_10U_nhruID_63665.tiff   False   \n",
       "8097  ./data/nhrus/AEA_tiffs/HUC_10U_nhruID_63681.tiff   False   \n",
       "\n",
       "                                                    out  cols  rows  cells  \n",
       "8081  CompletedProcess(args='gdalwarp -cutline ./dat...     0     1      0  \n",
       "8097  CompletedProcess(args='gdalwarp -cutline ./dat...     0     1      0  "
      ]
     },
     "execution_count": 27,
     "metadata": {},
     "output_type": "execute_result"
    }
   ],
   "source": [
    "missing[4]"
   ]
  },
  {
   "cell_type": "code",
   "execution_count": 28,
   "metadata": {
    "collapsed": true
   },
   "outputs": [],
   "source": [
    "reg10U_NHRU = [63665,63681]\n",
    "reg10U_cells = [[354526],[354513]]\n",
    "reg10U_percents = [[1],[1]]"
   ]
  },
  {
   "cell_type": "code",
   "execution_count": 29,
   "metadata": {
    "collapsed": true
   },
   "outputs": [],
   "source": [
    "reg10U = pd.DataFrame()\n",
    "reg10U['nhruID'] = reg10U_NHRU\n",
    "reg10U['reg_hruID'] = [8082,8098]\n",
    "reg10U['cells'] = reg10U_cells\n",
    "reg10U['percents'] = reg10U_percents\n",
    "reg10U['reg'] = '10U'"
   ]
  },
  {
   "cell_type": "code",
   "execution_count": 30,
   "metadata": {
    "collapsed": true
   },
   "outputs": [],
   "source": [
    "reg10U.to_pickle('./data/reg10U_unclipped.pcl')"
   ]
  },
  {
   "cell_type": "code",
   "execution_count": null,
   "metadata": {
    "collapsed": true
   },
   "outputs": [],
   "source": []
  }
 ],
 "metadata": {
  "kernelspec": {
   "display_name": "Python 3",
   "language": "python",
   "name": "python3"
  },
  "language_info": {
   "codemirror_mode": {
    "name": "ipython",
    "version": 3
   },
   "file_extension": ".py",
   "mimetype": "text/x-python",
   "name": "python",
   "nbconvert_exporter": "python",
   "pygments_lexer": "ipython3",
   "version": "3.6.4"
  }
 },
 "nbformat": 4,
 "nbformat_minor": 2
}
