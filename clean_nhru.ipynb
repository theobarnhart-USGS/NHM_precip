{
 "cells": [
  {
   "cell_type": "markdown",
   "metadata": {},
   "source": [
    "## Clean NHRU Shapefiles to that they can be used to crop an index raster"
   ]
  },
  {
   "cell_type": "code",
   "execution_count": 1,
   "metadata": {
    "collapsed": true
   },
   "outputs": [],
   "source": [
    "import geopandas as gpd\n",
    "import subprocess"
   ]
  },
  {
   "cell_type": "code",
   "execution_count": 2,
   "metadata": {
    "collapsed": true
   },
   "outputs": [],
   "source": [
    "def check_val(geom):\n",
    "    return geom.is_valid # return true if geometry is valid in shapely"
   ]
  },
  {
   "cell_type": "code",
   "execution_count": 3,
   "metadata": {
    "collapsed": true
   },
   "outputs": [],
   "source": [
    "def fix_geometry(df):\n",
    "    if df.geometry.is_valid: # if the geometry is valid in shapely, do nothing\n",
    "        return df.geometry\n",
    "    \n",
    "    elif df.geometry.is_valid==False: # if the geometry is invalid, fix it with a buffer of 0\n",
    "        return df.geometry.buffer(0)"
   ]
  },
  {
   "cell_type": "code",
   "execution_count": 10,
   "metadata": {
    "collapsed": true
   },
   "outputs": [],
   "source": [
    "def clean_file(fl):\n",
    "    '''Clean a nhm hru shapefile and save the output'''\n",
    "    dat = gpd.read_file(fl) # load the shapefile\n",
    "    dat['new_geom'] = dat.apply(fix_geometry,axis=1)\n",
    "    dat['valid'] = dat.new_geom.map(check_val)\n",
    "    valid_features = dat.valid.sum()\n",
    "    num_features = len(dat.hru_id_nat.unique())\n",
    "    \n",
    "    if (num_features-valid_features) == 0: # if there are no invalid features\n",
    "        num = fl.split('_')[-2] # get the region code\n",
    "        outfl = './data/nhrus/clean_AEA/nhru_%s_clean.shp'%(num)\n",
    "        dat = dat.set_geometry('new_geom') # assign new geometry to the shapefile\n",
    "        # remove extra columns\n",
    "        del dat['valid']\n",
    "        del dat['geometry']\n",
    "        dat.to_file(outfl) # save the file\n",
    "    else: \n",
    "        return 'error'"
   ]
  },
  {
   "cell_type": "code",
   "execution_count": 5,
   "metadata": {
    "collapsed": true
   },
   "outputs": [],
   "source": [
    "def reproject_shp(fl):\n",
    "    '''reproject the nhm shapefile from WGS84 to EPSG:2163 (Albers Equal Area, National Map)'''\n",
    "    \n",
    "    num = fl.split('_')[-1].split('.')[0]\n",
    "    outfl = './data/nhrus/AEA/nhru_%s_AEA.shp'%(num)\n",
    "    \n",
    "    cmd = \"ogr2ogr -s_srs 'EPSG:4326' -t_srs 'EPSG:2163' -overwrite %s %s\"%(outfl,fl)\n",
    "    subprocess.call(cmd,shell=True)\n",
    "    return None"
   ]
  },
  {
   "cell_type": "code",
   "execution_count": 6,
   "metadata": {
    "collapsed": true
   },
   "outputs": [],
   "source": [
    "files = glob.glob('./data/nhrus/nhru_*/nhru_*.shp')"
   ]
  },
  {
   "cell_type": "code",
   "execution_count": 7,
   "metadata": {},
   "outputs": [
    {
     "data": {
      "text/plain": [
       "[None, None, None, None, None, None, None]"
      ]
     },
     "execution_count": 7,
     "metadata": {},
     "output_type": "execute_result"
    }
   ],
   "source": [
    "[reproject_shp(fl) for fl in files]"
   ]
  },
  {
   "cell_type": "code",
   "execution_count": 8,
   "metadata": {
    "collapsed": true
   },
   "outputs": [],
   "source": [
    "files = glob.glob('./data/nhrus/AEA/nhru_*_AEA.shp')"
   ]
  },
  {
   "cell_type": "code",
   "execution_count": 11,
   "metadata": {},
   "outputs": [
    {
     "data": {
      "text/plain": [
       "[None, None, None, None, None, None]"
      ]
     },
     "execution_count": 11,
     "metadata": {},
     "output_type": "execute_result"
    }
   ],
   "source": [
    "[clean_file(fl) for fl in files]"
   ]
  },
  {
   "cell_type": "code",
   "execution_count": null,
   "metadata": {
    "collapsed": true
   },
   "outputs": [],
   "source": []
  }
 ],
 "metadata": {
  "kernelspec": {
   "display_name": "Python 3",
   "language": "python",
   "name": "python3"
  },
  "language_info": {
   "codemirror_mode": {
    "name": "ipython",
    "version": 3
   },
   "file_extension": ".py",
   "mimetype": "text/x-python",
   "name": "python",
   "nbconvert_exporter": "python",
   "pygments_lexer": "ipython3",
   "version": "3.6.2"
  }
 },
 "nbformat": 4,
 "nbformat_minor": 2
}
