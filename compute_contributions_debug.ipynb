{
 "cells": [
  {
   "cell_type": "code",
   "execution_count": 13,
   "metadata": {},
   "outputs": [],
   "source": [
    "import pandas as pd\n",
    "import numpy as np\n",
    "import rasterio as rs\n",
    "import geopandas as gpd\n",
    "from netCDF4 import Dataset\n",
    "import os\n",
    "import datetime\n",
    "import sys\n",
    "import gdal\n",
    "\n",
    "#reg = sys.argv[1] # pull the argument passed to the script\n",
    "reg = '01'\n",
    "fl = './data/nhrus/clean_AEA/nhru_%s_clean.shp'%reg # shapefile\n",
    "idxraster = './data/livneh_idx_laea.tiff' # the index raster to use with"
   ]
  },
  {
   "cell_type": "code",
   "execution_count": 29,
   "metadata": {},
   "outputs": [],
   "source": [
    "def get_cell(geom,gt=[],rb=[]):\n",
    "    ''' Grab index cell value for an hru that is too small to create a tiff for.\n",
    "    geom = hru geometry \n",
    "    gt = geotransform\n",
    "    rb = raster band to pick data from\n",
    "    '''\n",
    "    # grab the centrioid\n",
    "    mx = geom.centroid.x\n",
    "    my = geom.centroid.y\n",
    "    \n",
    "    # transform to array coordinates\n",
    "    px = int((mx-gt[0])/gt[1]) # x pixle\n",
    "    py = int((my-gt[3])/gt[5]) # y pixle\n",
    "    \n",
    "    # extract the value\n",
    "    intval = rb.ReadAsArray(px,py,1,1)\n",
    "    return intval[0][0]\n",
    "\n",
    "def process_tiffs(df,gt=[],rb=[]):\n",
    "    '''Process the tiffs or use the cell finder if the tiff does not exist\n",
    "    Inputs:\n",
    "    df = geopandas data frame of the cooresponding regional shapefile\n",
    "    gt = geotransform\n",
    "    rb = raster band\n",
    "    '''\n",
    "    \n",
    "    fl = './data/nhrus/AEA_tiffs/livneh_HUC_%s_nhruID_%s.tiff'%(df.region,df.hru_id_nat) # path to the tiffs\n",
    "\n",
    "    if os.path.isfile(fl) == True: # only proceed if the tiff exists\n",
    "        with rs.open(fl) as ds:\n",
    "            rast = ds.read(1)\n",
    "\n",
    "        n,m = rast.shape\n",
    "        rast.shape = n*m\n",
    "        rast = rast[rast!=0] # remove no data cells\n",
    "        k = 100 # number of smaller cells in each index cell\n",
    "\n",
    "        cells = np.unique(rast)\n",
    "        #print(len(cells))\n",
    "        percents = []\n",
    "        for cell in cells:\n",
    "            percents.append(len(rast[rast==cell])/k) # divide by the total cells in the basin to get the propotion of each cell in the basin\n",
    "\n",
    "        cells = list(cells)\n",
    "        return cells,percents\n",
    "    \n",
    "    elif os.path.isfile(fl) == False: # if the raster does not exist, find the grid cell that the hru centroid occupies\n",
    "        print('W - National HRU %s tiff missing, finding index value at centroid'%df.hru_id_nat)\n",
    "        return [get_cell(df.geometry,gt = gt,rb = rb)],[1.]\n",
    "\n",
    "def compute_contributions(fl,idxraster = idxraster):\n",
    "    '''Compute grid cell contributions to hrus within a region'''\n",
    "    \n",
    "    reg = fl.split('_')[-2]\n",
    "    \n",
    "    print('S - Starting Region: %s!'%reg)\n",
    "    print('S - Using input shapefile: %s'%fl)\n",
    "    print('S - Using index raster: %s'%idxraster)\n",
    "    \n",
    "    # load the index raster and pull the geotransformation:\n",
    "    src_ds = gdal.Open(idxraster)\n",
    "    gt = src_ds.GetGeoTransform()\n",
    "    rb = src_ds.GetRasterBand(1)\n",
    "\n",
    "    dat = gpd.read_file(fl)\n",
    "    \n",
    "    cells,percents = zip(*dat.apply(process_tiffs,axis=1,gt=gt,rb=rb)) # run the aggregation function\n",
    "    \n",
    "    dat['reg'] = reg\n",
    "    \n",
    "    dat['cells'] = cells # insert results back into the dataframe\n",
    "    dat['percents'] = percents\n",
    "    \n",
    "    # remove geometry from the data frame:\n",
    "    del dat['geometry']\n",
    "    outputFile = './data/livneh_huc_%s_cell_contrib.pcl'%reg\n",
    "    print('S - Writing contribution data to: %s'%outputFile)\n",
    "    dat.to_pickle(outputFile)\n",
    "    print('S - %s Complete!'%reg)"
   ]
  },
  {
   "cell_type": "code",
   "execution_count": 30,
   "metadata": {},
   "outputs": [
    {
     "name": "stdout",
     "output_type": "stream",
     "text": [
      "National HRU 6 tiff missing, finding index value at centroid\n",
      "National HRU 346 tiff missing, finding index value at centroid\n",
      "National HRU 1025 tiff missing, finding index value at centroid\n",
      "National HRU 1219 tiff missing, finding index value at centroid\n",
      "National HRU 1284 tiff missing, finding index value at centroid\n",
      "National HRU 1657 tiff missing, finding index value at centroid\n",
      "National HRU 1685 tiff missing, finding index value at centroid\n",
      "National HRU 1728 tiff missing, finding index value at centroid\n",
      "National HRU 1903 tiff missing, finding index value at centroid\n",
      "01 Complete!\n"
     ]
    }
   ],
   "source": [
    "compute_contributions(fl)"
   ]
  },
  {
   "cell_type": "code",
   "execution_count": 17,
   "metadata": {},
   "outputs": [],
   "source": [
    "dat = gpd.read_file(fl)"
   ]
  },
  {
   "cell_type": "code",
   "execution_count": 20,
   "metadata": {},
   "outputs": [],
   "source": [
    "geom = dat.loc[dat.hru_id_nat == 5].geometry"
   ]
  },
  {
   "cell_type": "code",
   "execution_count": 22,
   "metadata": {},
   "outputs": [
    {
     "data": {
      "text/plain": [
       "4    POINT (2188401.747535211 -69085.0446384551)\n",
       "dtype: object"
      ]
     },
     "execution_count": 22,
     "metadata": {},
     "output_type": "execute_result"
    }
   ],
   "source": [
    "geom.centroid"
   ]
  },
  {
   "cell_type": "code",
   "execution_count": null,
   "metadata": {},
   "outputs": [],
   "source": []
  }
 ],
 "metadata": {
  "kernelspec": {
   "display_name": "Python 3",
   "language": "python",
   "name": "python3"
  },
  "language_info": {
   "codemirror_mode": {
    "name": "ipython",
    "version": 3
   },
   "file_extension": ".py",
   "mimetype": "text/x-python",
   "name": "python",
   "nbconvert_exporter": "python",
   "pygments_lexer": "ipython3",
   "version": "3.6.4"
  }
 },
 "nbformat": 4,
 "nbformat_minor": 2
}
