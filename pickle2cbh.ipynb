{
 "cells": [
  {
   "cell_type": "code",
   "execution_count": 1,
   "metadata": {
    "collapsed": true
   },
   "outputs": [],
   "source": [
    "import glob as glob"
   ]
  },
  {
   "cell_type": "code",
   "execution_count": 2,
   "metadata": {
    "collapsed": true
   },
   "outputs": [],
   "source": [
    "files = glob.glob('./data/stage_4_forcings/hru_*_stage_4_precip.pcl')"
   ]
  },
  {
   "cell_type": "code",
   "execution_count": 3,
   "metadata": {
    "collapsed": true
   },
   "outputs": [],
   "source": [
    "fl = files[0]"
   ]
  },
  {
   "cell_type": "code",
   "execution_count": 4,
   "metadata": {},
   "outputs": [],
   "source": [
    "dat = pd.read_pickle(fl)"
   ]
  },
  {
   "cell_type": "code",
   "execution_count": 5,
   "metadata": {
    "collapsed": true
   },
   "outputs": [],
   "source": [
    "def pcl2chb(file):\n",
    "    '''convert a picle to a cbh file'''\n",
    "    region = file.split('_')[-4] # extract region\n",
    "    dat = pd.read_pickle(file)\n",
    "    print('Starting Region %s'%region)\n",
    "    \n",
    "    outfl = './data/stage_4_forcings_more_precise/hru_%s_stage_4_precip_3dec.cbh'%region\n",
    "    \n",
    "    dat.to_csv(outfl, sep = ' ',na_rep='-999',float_format='%.3f',header=False)\n",
    "    print('Region %s Finished'%region)"
   ]
  },
  {
   "cell_type": "code",
   "execution_count": 6,
   "metadata": {},
   "outputs": [
    {
     "name": "stdout",
     "output_type": "stream",
     "text": [
      "Starting Region 01\n",
      "Region 01 Finished\n",
      "Starting Region 02\n",
      "Region 02 Finished\n",
      "Starting Region 03\n",
      "Region 03 Finished\n",
      "Starting Region 04\n",
      "Region 04 Finished\n",
      "Starting Region 05\n",
      "Region 05 Finished\n",
      "Starting Region 06\n",
      "Region 06 Finished\n",
      "Starting Region 07\n",
      "Region 07 Finished\n",
      "Starting Region 08\n",
      "Region 08 Finished\n",
      "Starting Region 09\n",
      "Region 09 Finished\n",
      "Starting Region 10L\n",
      "Region 10L Finished\n",
      "Starting Region 10U\n",
      "Region 10U Finished\n",
      "Starting Region 11\n",
      "Region 11 Finished\n",
      "Starting Region 12\n",
      "Region 12 Finished\n",
      "Starting Region 13\n",
      "Region 13 Finished\n",
      "Starting Region 14\n",
      "Region 14 Finished\n",
      "Starting Region 15\n",
      "Region 15 Finished\n",
      "Starting Region 16\n",
      "Region 16 Finished\n",
      "Starting Region 17\n",
      "Region 17 Finished\n",
      "Starting Region 18\n",
      "Region 18 Finished\n"
     ]
    },
    {
     "data": {
      "text/plain": [
       "[None,\n",
       " None,\n",
       " None,\n",
       " None,\n",
       " None,\n",
       " None,\n",
       " None,\n",
       " None,\n",
       " None,\n",
       " None,\n",
       " None,\n",
       " None,\n",
       " None,\n",
       " None,\n",
       " None,\n",
       " None,\n",
       " None,\n",
       " None,\n",
       " None]"
      ]
     },
     "execution_count": 6,
     "metadata": {},
     "output_type": "execute_result"
    }
   ],
   "source": [
    "[pcl2chb(fl) for fl in files]"
   ]
  },
  {
   "cell_type": "code",
   "execution_count": null,
   "metadata": {
    "collapsed": true
   },
   "outputs": [],
   "source": []
  }
 ],
 "metadata": {
  "kernelspec": {
   "display_name": "Python 3",
   "language": "python",
   "name": "python3"
  },
  "language_info": {
   "codemirror_mode": {
    "name": "ipython",
    "version": 3
   },
   "file_extension": ".py",
   "mimetype": "text/x-python",
   "name": "python",
   "nbconvert_exporter": "python",
   "pygments_lexer": "ipython3",
   "version": "3.6.2"
  }
 },
 "nbformat": 4,
 "nbformat_minor": 2
}
