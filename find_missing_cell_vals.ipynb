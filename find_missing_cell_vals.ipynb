{
 "cells": [
  {
   "cell_type": "markdown",
   "metadata": {},
   "source": [
    "## Find Missing index raster values based on hru centroid\n",
    "\n",
    "Use Gdal and geopandas to find index raster cell values for hrus that are much smaller than 1 grid cell.\n",
    "\n",
    "Theodore Barnhart | tbarnhart@usgs.gov"
   ]
  },
  {
   "cell_type": "code",
   "execution_count": 1,
   "metadata": {
    "collapsed": true
   },
   "outputs": [],
   "source": [
    "import gdal\n",
    "import geopandas as gpd"
   ]
  },
  {
   "cell_type": "code",
   "execution_count": 2,
   "metadata": {},
   "outputs": [],
   "source": [
    "def get_cell(df,dat=[],gt=[],rb=[]):\n",
    "    '''Input a missing hru data frame'''\n",
    "    regHRUid = df.hruID # pull the reg\n",
    "    geom = dat.loc[dat.hru_id_reg == regHRUid].geometry\n",
    "    mx = geom.exterior.centroid.x\n",
    "    my = geom.exterior.centroid.y\n",
    "    px = int((mx-gt[0])/gt[1]) # x pixle\n",
    "    py = int((my-gt[3])/gt[5]) # y pixle\n",
    "    intval = rb.ReadAsArray(px,py,1,1)\n",
    "    return intval[0][0] "
   ]
  },
  {
   "cell_type": "code",
   "execution_count": 3,
   "metadata": {
    "collapsed": true
   },
   "outputs": [],
   "source": [
    "def find_missing(reg,infile='tmp'):\n",
    "    '''\n",
    "    In:\n",
    "    reg = region to work with\n",
    "    infile = index raster to pick values from based on hru centroid\n",
    "    \n",
    "    Out:\n",
    "    saves a missing data pickle\n",
    "    '''\n",
    "    \n",
    "    missing = pd.read_pickle('./data/missing_region_%s.pcl'%reg) # load the missing filed data frame\n",
    "    fl = './data/nhrus/clean_AEA/nhru_%s_clean.shp'%reg\n",
    "    dat = gpd.read_file(fl) # load the correct shapefile\n",
    "    \n",
    "    # load the index raster\n",
    "    src_ds = gdal.Open(infile)\n",
    "    gt = src_ds.GetGeoTransform()\n",
    "    rb = src_ds.GetRasterBand(1)\n",
    "    \n",
    "    missing['idx'] = missing.apply(get_cell,dat=dat,gt=gt,rb=rb,axis=1) # apply the finder function\n",
    "    \n",
    "    # code to convert the output to a missing hru contributions data frame\n",
    "    # save the missing hru contributions data frame\n",
    "    \n",
    "    return missing"
   ]
  },
  {
   "cell_type": "code",
   "execution_count": 4,
   "metadata": {},
   "outputs": [],
   "source": [
    "reg = '04'\n",
    "missing = find_missing(reg,infile='./data/hrap_grid_AEA.tiff')"
   ]
  },
  {
   "cell_type": "code",
   "execution_count": 5,
   "metadata": {},
   "outputs": [
    {
     "data": {
      "text/html": [
       "<div>\n",
       "<style>\n",
       "    .dataframe thead tr:only-child th {\n",
       "        text-align: right;\n",
       "    }\n",
       "\n",
       "    .dataframe thead th {\n",
       "        text-align: left;\n",
       "    }\n",
       "\n",
       "    .dataframe tbody tr th {\n",
       "        vertical-align: top;\n",
       "    }\n",
       "</style>\n",
       "<table border=\"1\" class=\"dataframe\">\n",
       "  <thead>\n",
       "    <tr style=\"text-align: right;\">\n",
       "      <th></th>\n",
       "      <th>hruID</th>\n",
       "      <th>cutline</th>\n",
       "      <th>region</th>\n",
       "      <th>inpath</th>\n",
       "      <th>outpath</th>\n",
       "      <th>isfile</th>\n",
       "      <th>out</th>\n",
       "      <th>cols</th>\n",
       "      <th>rows</th>\n",
       "      <th>cells</th>\n",
       "      <th>idx</th>\n",
       "    </tr>\n",
       "  </thead>\n",
       "  <tbody>\n",
       "    <tr>\n",
       "      <th>116</th>\n",
       "      <td>117</td>\n",
       "      <td>/home/tbarnhart/projects/NHM_precipitation/dat...</td>\n",
       "      <td>04</td>\n",
       "      <td>./hrap_grid_AEA_idx_sm.img</td>\n",
       "      <td>./AEA_tiffs/HUC_04_hruID_117.tiff</td>\n",
       "      <td>False</td>\n",
       "      <td>CompletedProcess(args='gdalwarp -cutline /home...</td>\n",
       "      <td>0</td>\n",
       "      <td>1</td>\n",
       "      <td>0</td>\n",
       "      <td>880</td>\n",
       "    </tr>\n",
       "    <tr>\n",
       "      <th>3746</th>\n",
       "      <td>3747</td>\n",
       "      <td>/home/tbarnhart/projects/NHM_precipitation/dat...</td>\n",
       "      <td>04</td>\n",
       "      <td>./hrap_grid_AEA_idx_sm.img</td>\n",
       "      <td>./AEA_tiffs/HUC_04_hruID_3747.tiff</td>\n",
       "      <td>False</td>\n",
       "      <td>CompletedProcess(args='gdalwarp -cutline /home...</td>\n",
       "      <td>0</td>\n",
       "      <td>0</td>\n",
       "      <td>0</td>\n",
       "      <td>753</td>\n",
       "    </tr>\n",
       "    <tr>\n",
       "      <th>3835</th>\n",
       "      <td>3836</td>\n",
       "      <td>/home/tbarnhart/projects/NHM_precipitation/dat...</td>\n",
       "      <td>04</td>\n",
       "      <td>./hrap_grid_AEA_idx_sm.img</td>\n",
       "      <td>./AEA_tiffs/HUC_04_hruID_3836.tiff</td>\n",
       "      <td>False</td>\n",
       "      <td>CompletedProcess(args='gdalwarp -cutline /home...</td>\n",
       "      <td>1</td>\n",
       "      <td>0</td>\n",
       "      <td>0</td>\n",
       "      <td>720</td>\n",
       "    </tr>\n",
       "    <tr>\n",
       "      <th>4538</th>\n",
       "      <td>4539</td>\n",
       "      <td>/home/tbarnhart/projects/NHM_precipitation/dat...</td>\n",
       "      <td>04</td>\n",
       "      <td>./hrap_grid_AEA_idx_sm.img</td>\n",
       "      <td>./AEA_tiffs/HUC_04_hruID_4539.tiff</td>\n",
       "      <td>False</td>\n",
       "      <td>CompletedProcess(args='gdalwarp -cutline /home...</td>\n",
       "      <td>0</td>\n",
       "      <td>0</td>\n",
       "      <td>0</td>\n",
       "      <td>706</td>\n",
       "    </tr>\n",
       "    <tr>\n",
       "      <th>5067</th>\n",
       "      <td>5068</td>\n",
       "      <td>/home/tbarnhart/projects/NHM_precipitation/dat...</td>\n",
       "      <td>04</td>\n",
       "      <td>./hrap_grid_AEA_idx_sm.img</td>\n",
       "      <td>./AEA_tiffs/HUC_04_hruID_5068.tiff</td>\n",
       "      <td>False</td>\n",
       "      <td>CompletedProcess(args='gdalwarp -cutline /home...</td>\n",
       "      <td>1</td>\n",
       "      <td>0</td>\n",
       "      <td>0</td>\n",
       "      <td>735</td>\n",
       "    </tr>\n",
       "  </tbody>\n",
       "</table>\n",
       "</div>"
      ],
      "text/plain": [
       "      hruID                                            cutline region  \\\n",
       "116     117  /home/tbarnhart/projects/NHM_precipitation/dat...     04   \n",
       "3746   3747  /home/tbarnhart/projects/NHM_precipitation/dat...     04   \n",
       "3835   3836  /home/tbarnhart/projects/NHM_precipitation/dat...     04   \n",
       "4538   4539  /home/tbarnhart/projects/NHM_precipitation/dat...     04   \n",
       "5067   5068  /home/tbarnhart/projects/NHM_precipitation/dat...     04   \n",
       "\n",
       "                          inpath                             outpath  isfile  \\\n",
       "116   ./hrap_grid_AEA_idx_sm.img   ./AEA_tiffs/HUC_04_hruID_117.tiff   False   \n",
       "3746  ./hrap_grid_AEA_idx_sm.img  ./AEA_tiffs/HUC_04_hruID_3747.tiff   False   \n",
       "3835  ./hrap_grid_AEA_idx_sm.img  ./AEA_tiffs/HUC_04_hruID_3836.tiff   False   \n",
       "4538  ./hrap_grid_AEA_idx_sm.img  ./AEA_tiffs/HUC_04_hruID_4539.tiff   False   \n",
       "5067  ./hrap_grid_AEA_idx_sm.img  ./AEA_tiffs/HUC_04_hruID_5068.tiff   False   \n",
       "\n",
       "                                                    out  cols  rows  cells  \\\n",
       "116   CompletedProcess(args='gdalwarp -cutline /home...     0     1      0   \n",
       "3746  CompletedProcess(args='gdalwarp -cutline /home...     0     0      0   \n",
       "3835  CompletedProcess(args='gdalwarp -cutline /home...     1     0      0   \n",
       "4538  CompletedProcess(args='gdalwarp -cutline /home...     0     0      0   \n",
       "5067  CompletedProcess(args='gdalwarp -cutline /home...     1     0      0   \n",
       "\n",
       "      idx  \n",
       "116   880  \n",
       "3746  753  \n",
       "3835  720  \n",
       "4538  706  \n",
       "5067  735  "
      ]
     },
     "execution_count": 5,
     "metadata": {},
     "output_type": "execute_result"
    }
   ],
   "source": [
    "missing.head()"
   ]
  },
  {
   "cell_type": "code",
   "execution_count": null,
   "metadata": {
    "collapsed": true
   },
   "outputs": [],
   "source": []
  }
 ],
 "metadata": {
  "kernelspec": {
   "display_name": "Python 3",
   "language": "python",
   "name": "python3"
  },
  "language_info": {
   "codemirror_mode": {
    "name": "ipython",
    "version": 3
   },
   "file_extension": ".py",
   "mimetype": "text/x-python",
   "name": "python",
   "nbconvert_exporter": "python",
   "pygments_lexer": "ipython3",
   "version": "3.6.2"
  }
 },
 "nbformat": 4,
 "nbformat_minor": 2
}
